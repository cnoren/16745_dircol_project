{
 "cells": [
  {
   "cell_type": "code",
   "execution_count": 56,
   "metadata": {
    "scrolled": true,
    "tags": []
   },
   "outputs": [
    {
     "name": "stderr",
     "output_type": "stream",
     "text": [
      "\u001b[32m\u001b[1m  Activating\u001b[22m\u001b[39m environment at `~/workspace/coursework_ws/s2023/16745/project/Project.toml`\n",
      "\u001b[32m\u001b[1m   Resolving\u001b[22m\u001b[39m package versions...\n",
      "\u001b[32m\u001b[1m  No Changes\u001b[22m\u001b[39m to `~/workspace/coursework_ws/s2023/16745/project/Project.toml`\n",
      "\u001b[32m\u001b[1m  No Changes\u001b[22m\u001b[39m to `~/workspace/coursework_ws/s2023/16745/project/Manifest.toml`\n",
      "\u001b[32m\u001b[1m   Resolving\u001b[22m\u001b[39m package versions...\n",
      "\u001b[32m\u001b[1m  No Changes\u001b[22m\u001b[39m to `~/workspace/coursework_ws/s2023/16745/project/Project.toml`\n",
      "\u001b[32m\u001b[1m  No Changes\u001b[22m\u001b[39m to `~/workspace/coursework_ws/s2023/16745/project/Manifest.toml`\n",
      "\u001b[32m\u001b[1m   Resolving\u001b[22m\u001b[39m package versions...\n",
      "\u001b[32m\u001b[1m    Updating\u001b[22m\u001b[39m `~/workspace/coursework_ws/s2023/16745/project/Project.toml`\n",
      " \u001b[90m [bd369af6] \u001b[39m\u001b[92m+ Tables v1.10.1\u001b[39m\n",
      "\u001b[32m\u001b[1m    Updating\u001b[22m\u001b[39m `~/workspace/coursework_ws/s2023/16745/project/Manifest.toml`\n",
      " \u001b[90m [bd369af6] \u001b[39m\u001b[93m↑ Tables v1.10.0 ⇒ v1.10.1\u001b[39m\n",
      "\u001b[32m\u001b[1m   Resolving\u001b[22m\u001b[39m package versions...\n",
      "\u001b[32m\u001b[1m   Installed\u001b[22m\u001b[39m InvertedIndices ──── v1.3.0\n",
      "\u001b[32m\u001b[1m   Installed\u001b[22m\u001b[39m Crayons ──────────── v4.1.1\n",
      "\u001b[32m\u001b[1m   Installed\u001b[22m\u001b[39m StringManipulation ─ v0.3.0\n",
      "\u001b[32m\u001b[1m   Installed\u001b[22m\u001b[39m DataFrames ───────── v1.5.0\n",
      "\u001b[32m\u001b[1m   Installed\u001b[22m\u001b[39m PrettyTables ─────── v2.2.3\n",
      "\u001b[32m\u001b[1m    Updating\u001b[22m\u001b[39m `~/workspace/coursework_ws/s2023/16745/project/Project.toml`\n",
      " \u001b[90m [a93c6f00] \u001b[39m\u001b[92m+ DataFrames v1.5.0\u001b[39m\n",
      "\u001b[32m\u001b[1m    Updating\u001b[22m\u001b[39m `~/workspace/coursework_ws/s2023/16745/project/Manifest.toml`\n",
      " \u001b[90m [a8cc5b0e] \u001b[39m\u001b[92m+ Crayons v4.1.1\u001b[39m\n",
      " \u001b[90m [a93c6f00] \u001b[39m\u001b[92m+ DataFrames v1.5.0\u001b[39m\n",
      " \u001b[90m [59287772] \u001b[39m\u001b[92m+ Formatting v0.4.2\u001b[39m\n",
      " \u001b[90m [41ab1584] \u001b[39m\u001b[92m+ InvertedIndices v1.3.0\u001b[39m\n",
      " \u001b[90m [e1d29d7a] \u001b[39m\u001b[92m+ Missings v1.1.0\u001b[39m\n",
      " \u001b[90m [08abe8d2] \u001b[39m\u001b[92m+ PrettyTables v2.2.3\u001b[39m\n",
      " \u001b[90m [a2af1166] \u001b[39m\u001b[92m+ SortingAlgorithms v1.1.0\u001b[39m\n",
      " \u001b[90m [892a3eda] \u001b[39m\u001b[92m+ StringManipulation v0.3.0\u001b[39m\n",
      "\u001b[32m\u001b[1mPrecompiling\u001b[22m\u001b[39m project...\n",
      "\u001b[32m  ✓ \u001b[39m\u001b[90mInvertedIndices\u001b[39m\n",
      "\u001b[32m  ✓ \u001b[39m\u001b[90mCrayons\u001b[39m\n",
      "\u001b[32m  ✓ \u001b[39m\u001b[90mStringManipulation\u001b[39m\n",
      "\u001b[32m  ✓ \u001b[39m\u001b[90mPrettyTables\u001b[39m\n",
      "\u001b[32m  ✓ \u001b[39mDataFrames\n",
      "  5 dependencies successfully precompiled in 31 seconds (163 already precompiled)\n",
      "\u001b[32m\u001b[1mPrecompiling\u001b[22m\u001b[39m project...\n",
      "\u001b[32m  ✓ \u001b[39m\u001b[90mPrettyTables\u001b[39m\n",
      "\u001b[32m  ✓ \u001b[39mDataFrames\n",
      "  2 dependencies successfully precompiled in 37 seconds (166 already precompiled)\n"
     ]
    }
   ],
   "source": [
    "import Pkg; Pkg.activate(@__DIR__); Pkg.add(\"ForwardDiff\"); Pkg.add(\"CSV\"); Pkg.add(\"Tables\"); Pkg.add(\"DataFrames\"); Pkg.instantiate()"
   ]
  },
  {
   "cell_type": "code",
   "execution_count": 3,
   "metadata": {},
   "outputs": [],
   "source": [
    "using LinearAlgebra\n",
    "using ForwardDiff\n",
    "using RobotZoo\n",
    "using PyPlot\n",
    "const RZ = RobotZoo\n",
    "using RobotDynamics\n",
    "using Ipopt\n",
    "using MathOptInterface\n",
    "using CSV\n",
    "using Tables\n",
    "using DataFrames\n",
    "const MOI = MathOptInterface\n",
    "\n",
    "using PyPlot;"
   ]
  },
  {
   "cell_type": "code",
   "execution_count": 4,
   "metadata": {},
   "outputs": [
    {
     "data": {
      "text/plain": [
       "MathOptInterface"
      ]
     },
     "execution_count": 4,
     "metadata": {},
     "output_type": "execute_result"
    }
   ],
   "source": [
    "using MathOptInterface\n",
    "const MOI = MathOptInterface\n"
   ]
  },
  {
   "cell_type": "markdown",
   "metadata": {},
   "source": [
    "Kinematic model of a car with front-wheel steering. Assumes no skid and models wheels on the same\n",
    "axel as a single wheel. The state is defined as `[x,y,θ,δ]` where `x` and `y` are the position,\n",
    "`θ` is the orientation (yaw angle), and `δ` is the steering angle. The controls are `[v,ϕ]` where \n",
    "`v` is the forward velocity and `ϕ` is the steering angle rate."
   ]
  },
  {
   "cell_type": "code",
   "execution_count": 86,
   "metadata": {},
   "outputs": [
    {
     "data": {
      "text/plain": [
       "0.02"
      ]
     },
     "execution_count": 86,
     "metadata": {},
     "output_type": "execute_result"
    }
   ],
   "source": [
    "#Pendulum Dynamics\n",
    "a = RobotZoo.BicycleModel(L=2.97)\n",
    "h = 0.02 #10 Hz"
   ]
  },
  {
   "cell_type": "code",
   "execution_count": 88,
   "metadata": {},
   "outputs": [
    {
     "data": {
      "text/plain": [
       "2008"
      ]
     },
     "execution_count": 88,
     "metadata": {},
     "output_type": "execute_result"
    }
   ],
   "source": [
    "Nx = 4     # number of state\n",
    "Nu = 2     # number of controls\n",
    "Tfinal = 10.0 # final time\n",
    "Nt = Int(Tfinal/h)+1   # number of time steps\n",
    "thist = Array(range(0,h*(Nt-1), step=h));\n",
    "n_nlp = (Nx+Nu)*Nt # number of decision variables\n",
    "m_nlp = Nx*(Nt+1)"
   ]
  },
  {
   "cell_type": "code",
   "execution_count": 89,
   "metadata": {},
   "outputs": [
    {
     "data": {
      "text/plain": [
       "dircol_dynamics (generic function with 1 method)"
      ]
     },
     "execution_count": 89,
     "metadata": {},
     "output_type": "execute_result"
    }
   ],
   "source": [
    "function dircol_dynamics(x1,u1,x2,u2)\n",
    "    #Hermite-Simpson integration with first-order hold on u\n",
    "    f1 = RZ.dynamics(a, x1, u1)\n",
    "    #println(f1)\n",
    "    f2 = RZ.dynamics(a, x2, u2)\n",
    "    #println(f2)\n",
    "    xm = 0.5*(x1 + x2) + (h/8.0)*(f1 - f2)\n",
    "    um = 0.5*(u1 + u2)\n",
    "    ẋm = (-3/(2.0*h))*(x1 - x2) - 0.25*(f1 + f2)\n",
    "    fm = RZ.dynamics(a, xm, um)\n",
    "    return fm - ẋm\n",
    "end"
   ]
  },
  {
   "cell_type": "code",
   "execution_count": 90,
   "metadata": {},
   "outputs": [],
   "source": [
    "# Cost weights\n",
    "Q = Diagonal(1.0*ones(4));\n",
    "R = Diagonal(0.1*ones(2));"
   ]
  },
  {
   "cell_type": "code",
   "execution_count": 91,
   "metadata": {},
   "outputs": [
    {
     "data": {
      "text/plain": [
       "stage_cost (generic function with 1 method)"
      ]
     },
     "execution_count": 91,
     "metadata": {},
     "output_type": "execute_result"
    }
   ],
   "source": [
    "function stage_cost(x,u)\n",
    "    # println(\"X: \")\n",
    "    # println(x)    \n",
    "    # println(\"U: \")\n",
    "    # println(u)\n",
    "    # println(\"Q: \")\n",
    "    # println(Q)    \n",
    "    # println(\"R: \")\n",
    "    # println(R)\n",
    "    # println(\"COMPONENTS\")\n",
    "    # println(0.5*((x-xgoal)'*Q*(x-xgoal)))\n",
    "    # println(\"COMPONENTS 2\")\n",
    "    # println(0.5*(u'*R*u))\n",
    "    # println(\"FINISH\")\n",
    "    \n",
    "    return 0.5*((x-xgoal)'*Q*(x-xgoal)) + 0.5*u'*R*u\n",
    "end"
   ]
  },
  {
   "cell_type": "code",
   "execution_count": 92,
   "metadata": {},
   "outputs": [
    {
     "data": {
      "text/plain": [
       "cost (generic function with 1 method)"
      ]
     },
     "execution_count": 92,
     "metadata": {},
     "output_type": "execute_result"
    }
   ],
   "source": [
    "function cost(ztraj)\n",
    "    z = reshape(ztraj,Nx+Nu,Nt)\n",
    "    J = 0.0\n",
    "    for k = 1:Nt\n",
    "        J += stage_cost(z[1:Nx,k],z[(Nx+1):(Nx+Nu),k])\n",
    "    end\n",
    "    return J\n",
    "end"
   ]
  },
  {
   "cell_type": "code",
   "execution_count": 93,
   "metadata": {},
   "outputs": [
    {
     "data": {
      "text/plain": [
       "dynamics_constraint! (generic function with 1 method)"
      ]
     },
     "execution_count": 93,
     "metadata": {},
     "output_type": "execute_result"
    }
   ],
   "source": [
    "function dynamics_constraint!(c,ztraj)\n",
    "    d = reshape(c,Nx,Nt-1)\n",
    "    z = reshape(ztraj,Nx+Nu,Nt)\n",
    "    for k = 1:(Nt-1)\n",
    "        x1 = z[1:Nx,k]\n",
    "        u1 = z[(Nx+1):(Nx+Nu),k]\n",
    "        x2 = z[1:Nx,k+1]\n",
    "        u2 = z[(Nx+1):(Nx+Nu),k+1]\n",
    "        d[:,k] = dircol_dynamics(x1,u1,x2,u2)\n",
    "    end\n",
    "    return nothing\n",
    "end"
   ]
  },
  {
   "cell_type": "code",
   "execution_count": 94,
   "metadata": {},
   "outputs": [
    {
     "data": {
      "text/plain": [
       "con! (generic function with 1 method)"
      ]
     },
     "execution_count": 94,
     "metadata": {},
     "output_type": "execute_result"
    }
   ],
   "source": [
    "function con!(c,ztraj)\n",
    "    z = reshape(ztraj,Nx+Nu,Nt)\n",
    "    c[1:Nx] .= z[1:Nx,1] - x0\n",
    "    @views dynamics_constraint!(c[(Nx+1):(end-Nx)],ztraj)\n",
    "    c[(end-Nx+1):end] .= z[1:Nx,end] - xgoal\n",
    "end"
   ]
  },
  {
   "cell_type": "code",
   "execution_count": 66,
   "metadata": {},
   "outputs": [
    {
     "data": {
      "text/plain": [
       "4-element Vector{Int64}:\n",
       " 10\n",
       "  0\n",
       "  0\n",
       "  0"
      ]
     },
     "execution_count": 66,
     "metadata": {},
     "output_type": "execute_result"
    }
   ],
   "source": [
    "#Initial and goal states\n",
    "x0    = [0; 0; 0; 0;]\n",
    "xgoal = [10; -5; 0; 0;]"
   ]
  },
  {
   "cell_type": "code",
   "execution_count": 67,
   "metadata": {},
   "outputs": [],
   "source": [
    "#Guess\n",
    "xguess = kron(ones(Nt)', x0)\n",
    "#xguess[1,:] .= xtraj[1,:] + 0.1*randn(Nt)\n",
    "uguess = kron(ones(Nt)', [0; 0])\n",
    "z0 = reshape([xguess; uguess],(Nx+Nu)*Nt,1);"
   ]
  },
  {
   "cell_type": "code",
   "execution_count": 68,
   "metadata": {},
   "outputs": [
    {
     "data": {
      "text/plain": [
       "solve (generic function with 1 method)"
      ]
     },
     "execution_count": 68,
     "metadata": {},
     "output_type": "execute_result"
    }
   ],
   "source": [
    "struct ProblemMOI <: MOI.AbstractNLPEvaluator\n",
    "    n_nlp::Int\n",
    "    m_nlp::Int\n",
    "    idx_ineq\n",
    "    obj_grad::Bool\n",
    "    con_jac::Bool\n",
    "    sparsity_jac\n",
    "    sparsity_hess\n",
    "    primal_bounds\n",
    "    constraint_bounds\n",
    "    hessian_lagrangian::Bool\n",
    "end\n",
    "\n",
    "function ProblemMOI(n_nlp,m_nlp;\n",
    "        idx_ineq=(1:0),\n",
    "        obj_grad=true,\n",
    "        con_jac=true,\n",
    "        sparsity_jac=sparsity_jacobian(n_nlp,m_nlp),\n",
    "        sparsity_hess=sparsity_hessian(n_nlp,m_nlp),\n",
    "        primal_bounds=primal_bounds(n_nlp),\n",
    "        constraint_bounds=constraint_bounds(m_nlp,idx_ineq=idx_ineq),\n",
    "        hessian_lagrangian=false)\n",
    "\n",
    "    ProblemMOI(n_nlp,m_nlp,\n",
    "        idx_ineq,\n",
    "        obj_grad,\n",
    "        con_jac,\n",
    "        sparsity_jac,\n",
    "        sparsity_hess,\n",
    "        primal_bounds,\n",
    "        constraint_bounds,\n",
    "        hessian_lagrangian)\n",
    "end\n",
    "\n",
    "function primal_bounds(n)\n",
    "    x_l = -Inf*ones(n)\n",
    "    x_u = 10*ones(n)\n",
    "    return x_l, x_u\n",
    "end\n",
    "\n",
    "function constraint_bounds(m; idx_ineq=(1:0))\n",
    "    c_l = zeros(m)\n",
    "    c_l[idx_ineq] .= -Inf\n",
    "\n",
    "    c_u = zeros(m)\n",
    "    return c_l, c_u\n",
    "end\n",
    "\n",
    "function row_col!(row,col,r,c)\n",
    "    for cc in c\n",
    "        for rr in r\n",
    "            push!(row,convert(Int,rr))\n",
    "            push!(col,convert(Int,cc))\n",
    "        end\n",
    "    end\n",
    "    return row, col\n",
    "end\n",
    "\n",
    "function sparsity_jacobian(n,m)\n",
    "\n",
    "    row = []\n",
    "    col = []\n",
    "\n",
    "    r = 1:m\n",
    "    c = 1:n\n",
    "\n",
    "    row_col!(row,col,r,c)\n",
    "\n",
    "    return collect(zip(row,col))\n",
    "end\n",
    "\n",
    "function sparsity_hessian(n,m)\n",
    "\n",
    "    row = []\n",
    "    col = []\n",
    "\n",
    "    r = 1:m\n",
    "    c = 1:n\n",
    "\n",
    "    row_col!(row,col,r,c)\n",
    "\n",
    "    return collect(zip(row,col))\n",
    "end\n",
    "\n",
    "function MOI.eval_objective(prob::MOI.AbstractNLPEvaluator, x)\n",
    "    cost(x)\n",
    "end\n",
    "\n",
    "function MOI.eval_objective_gradient(prob::MOI.AbstractNLPEvaluator, grad_f, x)\n",
    "    ForwardDiff.gradient!(grad_f,cost,x)\n",
    "    return nothing\n",
    "end\n",
    "\n",
    "function MOI.eval_constraint(prob::MOI.AbstractNLPEvaluator,g,x)\n",
    "    con!(g,x)\n",
    "    return nothing\n",
    "end\n",
    "\n",
    "function MOI.eval_constraint_jacobian(prob::MOI.AbstractNLPEvaluator, jac, x)\n",
    "    ForwardDiff.jacobian!(reshape(jac,prob.m_nlp,prob.n_nlp), con!, zeros(prob.m_nlp), x)\n",
    "    return nothing\n",
    "end\n",
    "\n",
    "function MOI.features_available(prob::MOI.AbstractNLPEvaluator)\n",
    "    return [:Grad, :Jac]\n",
    "end\n",
    "\n",
    "MOI.initialize(prob::MOI.AbstractNLPEvaluator, features) = nothing\n",
    "MOI.jacobian_structure(prob::MOI.AbstractNLPEvaluator) = prob.sparsity_jac\n",
    "\n",
    "function solve(x0,prob::MOI.AbstractNLPEvaluator;\n",
    "        tol=1.0e-6,c_tol=1.0e-6,max_iter=10000)\n",
    "    x_l, x_u = prob.primal_bounds\n",
    "    c_l, c_u = prob.constraint_bounds\n",
    "\n",
    "    nlp_bounds = MOI.NLPBoundsPair.(c_l,c_u)\n",
    "    block_data = MOI.NLPBlockData(nlp_bounds,prob,true)\n",
    "\n",
    "    solver = Ipopt.Optimizer()\n",
    "    solver.options[\"max_iter\"] = max_iter\n",
    "    solver.options[\"tol\"] = tol\n",
    "    solver.options[\"constr_viol_tol\"] = c_tol\n",
    "\n",
    "    x = MOI.add_variables(solver,prob.n_nlp)\n",
    "\n",
    "    for i = 1:prob.n_nlp\n",
    "        MOI.add_constraint(solver, x[i], MOI.LessThan(x_u[i]))\n",
    "        MOI.add_constraint(solver, x[i], MOI.GreaterThan(x_l[i]))\n",
    "        MOI.set(solver, MOI.VariablePrimalStart(), x[i], x0[i])\n",
    "    end\n",
    "\n",
    "    # Solve the problem\n",
    "    MOI.set(solver, MOI.NLPBlock(), block_data)\n",
    "    MOI.set(solver, MOI.ObjectiveSense(), MOI.MIN_SENSE)\n",
    "    MOI.optimize!(solver)\n",
    "\n",
    "    # Get the solution\n",
    "    res = MOI.get(solver, MOI.VariablePrimal(), x)\n",
    "\n",
    "    return res\n",
    "end"
   ]
  },
  {
   "cell_type": "code",
   "execution_count": 69,
   "metadata": {
    "scrolled": true,
    "tags": []
   },
   "outputs": [
    {
     "name": "stdout",
     "output_type": "stream",
     "text": [
      "This is Ipopt version 3.13.4, running with linear solver mumps.\n",
      "NOTE: Other linear solvers might be more efficient (see Ipopt documentation).\n",
      "\n",
      "Number of nonzeros in equality constraint Jacobian...:  1518048\n",
      "Number of nonzeros in inequality constraint Jacobian.:        0\n",
      "Number of nonzeros in Lagrangian Hessian.............:        0\n",
      "\n",
      "Total number of variables............................:     1506\n",
      "                     variables with only lower bounds:        0\n",
      "                variables with lower and upper bounds:        0\n",
      "                     variables with only upper bounds:     1506\n",
      "Total number of equality constraints.................:     1008\n",
      "Total number of inequality constraints...............:        0\n",
      "        inequality constraints with only lower bounds:        0\n",
      "   inequality constraints with lower and upper bounds:        0\n",
      "        inequality constraints with only upper bounds:        0\n",
      "\n",
      "iter    objective    inf_pr   inf_du lg(mu)  ||d||  lg(rg) alpha_du alpha_pr  ls\n",
      "   0  1.2550000e+04 1.00e+01 9.00e+00   0.0 0.00e+00    -  0.00e+00 0.00e+00   0\n",
      "   1  1.6766544e+03 1.00e-01 7.98e+00  -5.0 1.00e+01    -  9.90e-01 9.90e-01f  1\n",
      "   2  1.4340295e+03 6.63e-02 5.02e+00  -1.5 3.57e+00    -  9.37e-01 3.37e-01f  1\n",
      "   3  1.2416405e+03 4.02e-02 2.80e+00  -2.0 5.08e+00    -  9.99e-01 3.93e-01f  1\n",
      "   4  1.1414268e+03 2.10e-02 1.54e+00  -3.0 5.23e+00    -  1.00e+00 4.79e-01f  1\n",
      "   5  1.1235969e+03 1.61e-02 1.18e+00  -3.7 2.40e+00    -  1.00e+00 2.31e-01f  1\n",
      "   6  1.0987266e+03 8.46e-03 6.68e-01  -3.9 2.59e+00    -  1.00e+00 4.75e-01f  1\n",
      "   7  1.0921666e+03 5.50e-03 4.54e-01  -4.3 1.68e+00    -  1.00e+00 3.50e-01f  1\n",
      "   8  1.0887045e+03 3.64e-03 3.14e-01  -4.6 1.40e+00    -  1.00e+00 3.37e-01f  1\n",
      "   9  1.0867778e+03 2.37e-03 2.16e-01  -4.9 1.10e+00    -  1.00e+00 3.51e-01f  1\n",
      "iter    objective    inf_pr   inf_du lg(mu)  ||d||  lg(rg) alpha_du alpha_pr  ls\n",
      "  10  1.0859063e+03 1.65e-03 1.70e-01  -5.2 8.30e-01    -  1.00e+00 3.01e-01f  1\n",
      "  11  1.0852875e+03 1.04e-03 1.28e-01  -5.4 6.54e-01    -  1.00e+00 3.69e-01f  1\n",
      "  12  1.0847559e+03 1.42e-04 9.66e-02  -3.6 4.30e-01    -  1.00e+00 8.64e-01f  1\n",
      "  13  1.0847014e+03 5.14e-05 2.66e-02  -5.4 1.41e-01    -  1.00e+00 6.38e-01f  1\n",
      "  14  1.0846777e+03 4.15e-07 1.60e-02  -4.7 5.39e-02    -  1.00e+00 9.92e-01f  1\n",
      "  15  1.0846745e+03 1.17e-07 7.55e-03  -6.5 2.25e-02    -  1.00e+00 9.64e-01h  1\n",
      "  16  1.0846739e+03 3.47e-08 1.88e-03  -7.9 1.32e-02    -  1.00e+00 1.00e+00h  1\n",
      "  17  1.0846737e+03 2.84e-08 9.02e-04  -8.7 8.96e-03    -  1.00e+00 1.00e+00h  1\n",
      "  18  1.0846737e+03 2.73e-08 3.14e-04  -9.3 5.79e-03    -  1.00e+00 1.00e+00h  1\n",
      "  19  1.0846737e+03 3.85e-08 6.12e-04 -10.0 2.92e-03    -  1.00e+00 1.00e+00h  1\n",
      "iter    objective    inf_pr   inf_du lg(mu)  ||d||  lg(rg) alpha_du alpha_pr  ls\n",
      "  20  1.0846737e+03 2.42e-08 5.90e-04 -11.0 1.29e-03    -  1.00e+00 9.89e-01h  1\n",
      "  21  1.0846737e+03 2.45e-09 4.12e-05 -11.0 8.22e-05    -  5.79e-01 1.00e+00h  1\n",
      "  22  1.0846737e+03 9.58e-11 1.45e-05 -10.9 3.60e-05    -  9.99e-01 1.00e+00h  1\n",
      "  23  1.0846737e+03 7.67e-11 5.91e-06 -11.0 8.84e-05    -  6.06e-01 1.00e+00h  1\n",
      "  24  1.0846737e+03 2.68e-12 1.80e-06 -11.0 3.74e-05    -  1.00e+00 1.00e+00h  1\n",
      "  25  1.0846737e+03 1.00e-12 1.77e-06 -11.0 2.23e-05    -  1.00e+00 1.00e+00h  1\n",
      "  26  1.0846737e+03 3.79e-13 2.50e-07 -11.0 5.77e-06    -  1.00e+00 1.00e+00h  1\n",
      "\n",
      "Number of Iterations....: 26\n",
      "\n",
      "                                   (scaled)                 (unscaled)\n",
      "Objective...............:   1.0846737144780807e+03    1.0846737144780807e+03\n",
      "Dual infeasibility......:   2.5031790738930122e-07    2.5031790738930122e-07\n",
      "Constraint violation....:   3.7924555348395739e-13    3.7924555348395739e-13\n",
      "Complementarity.........:   1.0006975101421847e-11    1.0006975101421847e-11\n",
      "Overall NLP error.......:   2.5031790738930122e-07    2.5031790738930122e-07\n",
      "\n",
      "\n",
      "Number of objective function evaluations             = 27\n",
      "Number of objective gradient evaluations             = 27\n",
      "Number of equality constraint evaluations            = 27\n",
      "Number of inequality constraint evaluations          = 0\n",
      "Number of equality constraint Jacobian evaluations   = 27\n",
      "Number of inequality constraint Jacobian evaluations = 0\n",
      "Number of Lagrangian Hessian evaluations             = 0\n",
      "Total CPU secs in IPOPT (w/o function evaluations)   =    164.756\n",
      "Total CPU secs in NLP function evaluations           =      3.447\n",
      "\n",
      "EXIT: Optimal Solution Found.\n"
     ]
    }
   ],
   "source": [
    "prob = ProblemMOI(n_nlp,m_nlp)\n",
    "z_sol = solve(z0,prob) # solve\n",
    "ztraj = reshape(z_sol,Nx+Nu,Nt)\n",
    "xtraj = ztraj[1:Nx,:]\n",
    "utraj = ztraj[(Nx+1):(Nx+Nu),:];"
   ]
  },
  {
   "cell_type": "code",
   "execution_count": 70,
   "metadata": {},
   "outputs": [
    {
     "data": {
      "image/png": "[encoded data removed]",
      "text/plain": [
       "Figure(PyObject <Figure size 640x480 with 1 Axes>)"
      ]
     },
     "metadata": {},
     "output_type": "display_data"
    },
    {
     "data": {
      "text/plain": [
       "PyObject Text(0.5, 1.0, 'Positional State History vs. Time')"
      ]
     },
     "execution_count": 70,
     "metadata": {},
     "output_type": "execute_result"
    }
   ],
   "source": [
    "#print(thist)\n",
    "#print(xtraj)\n",
    "plot(thist,xtraj[1,:])\n",
    "plot(thist,xtraj[2,:])\n",
    "title(\"Positional State History vs. Time\")\n",
    "#plot(thist,xguess[1,:])"
   ]
  },
  {
   "cell_type": "code",
   "execution_count": 71,
   "metadata": {
    "scrolled": false
   },
   "outputs": [
    {
     "data": {
      "image/png": "[encoded data removed]",
      "text/plain": [
       "Figure(PyObject <Figure size 640x480 with 1 Axes>)"
      ]
     },
     "metadata": {},
     "output_type": "display_data"
    },
    {
     "data": {
      "text/plain": [
       "PyObject Text(0.5, 1.0, 'Position')"
      ]
     },
     "execution_count": 71,
     "metadata": {},
     "output_type": "execute_result"
    }
   ],
   "source": [
    "plot(xtraj[1,:],xtraj[2,:])\n",
    "title(\"Position\")"
   ]
  },
  {
   "cell_type": "code",
   "execution_count": 72,
   "metadata": {
    "scrolled": false
   },
   "outputs": [
    {
     "data": {
      "image/png": "[encoded data removed]",
      "text/plain": [
       "Figure(PyObject <Figure size 640x480 with 1 Axes>)"
      ]
     },
     "metadata": {},
     "output_type": "display_data"
    },
    {
     "data": {
      "text/plain": [
       "1-element Vector{PyCall.PyObject}:\n",
       " PyObject <matplotlib.lines.Line2D object at 0x7f14f09b8a00>"
      ]
     },
     "execution_count": 72,
     "metadata": {},
     "output_type": "execute_result"
    }
   ],
   "source": [
    "plot(thist,xtraj[3,:])\n",
    "plot(thist,xtraj[4,:])"
   ]
  },
  {
   "cell_type": "code",
   "execution_count": 73,
   "metadata": {
    "scrolled": false
   },
   "outputs": [
    {
     "data": {
      "image/png": "[encoded data removed]",
      "text/plain": [
       "Figure(PyObject <Figure size 640x480 with 1 Axes>)"
      ]
     },
     "metadata": {},
     "output_type": "display_data"
    },
    {
     "data": {
      "text/plain": [
       "1-element Vector{PyCall.PyObject}:\n",
       " PyObject <matplotlib.lines.Line2D object at 0x7f157dd0e040>"
      ]
     },
     "execution_count": 73,
     "metadata": {},
     "output_type": "execute_result"
    }
   ],
   "source": [
    "plot(thist,utraj[1,:])"
   ]
  },
  {
   "cell_type": "code",
   "execution_count": 74,
   "metadata": {},
   "outputs": [
    {
     "name": "stderr",
     "output_type": "stream",
     "text": [
      "\u001b[36m\u001b[1m┌ \u001b[22m\u001b[39m\u001b[36m\u001b[1mInfo: \u001b[22m\u001b[39mMeshCat server started. You can open the visualizer by visiting the following URL in your browser:\n",
      "\u001b[36m\u001b[1m└ \u001b[22m\u001b[39mhttp://127.0.0.1:8703\n"
     ]
    },
    {
     "data": {
      "text/html": [
       "    <div style=\"height: 500px; width: 100%; overflow-x: auto; overflow-y: hidden; resize: both\">\n",
       "    <iframe src=\"http://127.0.0.1:8703\" style=\"width: 100%; height: 100%; border: none\"></iframe>\n",
       "    </div>\n"
      ],
      "text/plain": [
       "MeshCat.DisplayedVisualizer(MeshCat.CoreVisualizer(MeshCat.SceneTrees.SceneNode(nothing, nothing, Dict{String, Vector{UInt8}}(), nothing, Dict{String, MeshCat.SceneTrees.SceneNode}()), Set{Any}(), ip\"127.0.0.1\", 8703))"
      ]
     },
     "execution_count": 74,
     "metadata": {},
     "output_type": "execute_result"
    }
   ],
   "source": [
    "using TrajOptPlots\n",
    "using MeshCat\n",
    "using StaticArrays\n",
    "\n",
    "vis = Visualizer()\n",
    "render(vis)"
   ]
  },
  {
   "cell_type": "code",
   "execution_count": 75,
   "metadata": {},
   "outputs": [
    {
     "data": {
      "text/plain": [
       "MeshCat Visualizer with path /meshcat/robot/geom at http://127.0.0.1:8703"
      ]
     },
     "execution_count": 75,
     "metadata": {},
     "output_type": "execute_result"
    }
   ],
   "source": [
    "TrajOptPlots.set_mesh!(vis, a)"
   ]
  },
  {
   "cell_type": "code",
   "execution_count": 76,
   "metadata": {},
   "outputs": [],
   "source": [
    "X1 = [SVector{4}(x) for x in eachcol(xtraj)];\n",
    "visualize!(vis, a, thist[end], X1)"
   ]
  },
  {
   "cell_type": "code",
   "execution_count": 57,
   "metadata": {},
   "outputs": [
    {
     "name": "stderr",
     "output_type": "stream",
     "text": [
      "\u001b[36m\u001b[1m[ \u001b[22m\u001b[39m\u001b[36m\u001b[1mInfo: \u001b[22m\u001b[39mPrecompiling DataFrames [a93c6f00-e57d-5684-b7b6-d8193f3e46c0]\n"
     ]
    }
   ],
   "source": [
    "using Tables; using DataFrames"
   ]
  },
  {
   "cell_type": "code",
   "execution_count": 77,
   "metadata": {},
   "outputs": [
    {
     "data": {
      "text/html": [
       "<div><div style = \"float: left;\"><span>4×251 DataFrame</span></div><div style = \"float: right;\"><span style = \"font-style: italic;\">151 columns omitted</span></div><div style = \"clear: both;\"></div></div><div class = \"data-frame\" style = \"overflow-x: scroll;\"><table class = \"data-frame\" style = \"margin-bottom: 6px;\"><thead><tr class = \"header\"><th class = \"rowNumber\" style = \"font-weight: bold; text-align: right;\">Row</th><th style = \"text-align: left;\">x1</th><th style = \"text-align: left;\">x2</th><th style = \"text-align: left;\">x3</th><th style = \"text-align: left;\">x4</th><th style = \"text-align: left;\">x5</th><th style = \"text-align: left;\">x6</th><th style = \"text-align: left;\">x7</th><th style = \"text-align: left;\">x8</th><th style = \"text-align: left;\">x9</th><th style = \"text-align: left;\">x10</th><th style = \"text-align: left;\">x11</th><th style = \"text-align: left;\">x12</th><th style = \"text-align: left;\">x13</th><th style = \"text-align: left;\">x14</th><th style = \"text-align: left;\">x15</th><th style = \"text-align: left;\">x16</th><th style = \"text-align: left;\">x17</th><th style = \"text-align: left;\">x18</th><th style = \"text-align: left;\">x19</th><th style = \"text-align: left;\">x20</th><th style = \"text-align: left;\">x21</th><th style = \"text-align: left;\">x22</th><th style = \"text-align: left;\">x23</th><th style = \"text-align: left;\">x24</th><th style = \"text-align: left;\">x25</th><th style = \"text-align: left;\">x26</th><th style = \"text-align: left;\">x27</th><th style = \"text-align: left;\">x28</th><th style = \"text-align: left;\">x29</th><th style = \"text-align: left;\">x30</th><th style = \"text-align: left;\">x31</th><th style = \"text-align: left;\">x32</th><th style = \"text-align: left;\">x33</th><th style = \"text-align: left;\">x34</th><th style = \"text-align: left;\">x35</th><th style = \"text-align: left;\">x36</th><th style = \"text-align: left;\">x37</th><th style = \"text-align: left;\">x38</th><th style = \"text-align: left;\">x39</th><th style = \"text-align: left;\">x40</th><th style = \"text-align: left;\">x41</th><th style = \"text-align: left;\">x42</th><th style = \"text-align: left;\">x43</th><th style = \"text-align: left;\">x44</th><th style = \"text-align: left;\">x45</th><th style = \"text-align: left;\">x46</th><th style = \"text-align: left;\">x47</th><th style = \"text-align: left;\">x48</th><th style = \"text-align: left;\">x49</th><th style = \"text-align: left;\">x50</th><th style = \"text-align: left;\">x51</th><th style = \"text-align: left;\">x52</th><th style = \"text-align: left;\">x53</th><th style = \"text-align: left;\">x54</th><th style = \"text-align: left;\">x55</th><th style = \"text-align: left;\">x56</th><th style = \"text-align: left;\">x57</th><th style = \"text-align: left;\">x58</th><th style = \"text-align: left;\">x59</th><th style = \"text-align: left;\">x60</th><th style = \"text-align: left;\">x61</th><th style = \"text-align: left;\">x62</th><th style = \"text-align: left;\">x63</th><th style = \"text-align: left;\">x64</th><th style = \"text-align: left;\">x65</th><th style = \"text-align: left;\">x66</th><th style = \"text-align: left;\">x67</th><th style = \"text-align: left;\">x68</th><th style = \"text-align: left;\">x69</th><th style = \"text-align: left;\">x70</th><th style = \"text-align: left;\">x71</th><th style = \"text-align: left;\">x72</th><th style = \"text-align: left;\">x73</th><th style = \"text-align: left;\">x74</th><th style = \"text-align: left;\">x75</th><th style = \"text-align: left;\">x76</th><th style = \"text-align: left;\">x77</th><th style = \"text-align: left;\">x78</th><th style = \"text-align: left;\">x79</th><th style = \"text-align: left;\">x80</th><th style = \"text-align: left;\">x81</th><th style = \"text-align: left;\">x82</th><th style = \"text-align: left;\">x83</th><th style = \"text-align: left;\">x84</th><th style = \"text-align: left;\">x85</th><th style = \"text-align: left;\">x86</th><th style = \"text-align: left;\">x87</th><th style = \"text-align: left;\">x88</th><th style = \"text-align: left;\">x89</th><th style = \"text-align: left;\">x90</th><th style = \"text-align: left;\">x91</th><th style = \"text-align: left;\">x92</th><th style = \"text-align: left;\">x93</th><th style = \"text-align: left;\">x94</th><th style = \"text-align: left;\">x95</th><th style = \"text-align: left;\">x96</th><th style = \"text-align: left;\">x97</th><th style = \"text-align: left;\">x98</th><th style = \"text-align: left;\">x99</th><th style = \"text-align: left;\">x100</th><th style = \"text-align: right;\">&ctdot;</th></tr><tr class = \"subheader headerLastRow\"><th class = \"rowNumber\" style = \"font-weight: bold; text-align: right;\"></th><th title = \"Float64\" style = \"text-align: left;\">Float64</th><th title = \"Float64\" style = \"text-align: left;\">Float64</th><th title = \"Float64\" style = \"text-align: left;\">Float64</th><th title = \"Float64\" style = \"text-align: left;\">Float64</th><th title = \"Float64\" style = \"text-align: left;\">Float64</th><th title = \"Float64\" style = \"text-align: left;\">Float64</th><th title = \"Float64\" style = \"text-align: left;\">Float64</th><th title = \"Float64\" style = \"text-align: left;\">Float64</th><th title = \"Float64\" style = \"text-align: left;\">Float64</th><th title = \"Float64\" style = \"text-align: left;\">Float64</th><th title = \"Float64\" style = \"text-align: left;\">Float64</th><th title = \"Float64\" style = \"text-align: left;\">Float64</th><th title = \"Float64\" style = \"text-align: left;\">Float64</th><th title = \"Float64\" style = \"text-align: left;\">Float64</th><th title = \"Float64\" style = \"text-align: left;\">Float64</th><th title = \"Float64\" style = \"text-align: left;\">Float64</th><th title = \"Float64\" style = \"text-align: left;\">Float64</th><th title = \"Float64\" style = \"text-align: left;\">Float64</th><th title = \"Float64\" style = \"text-align: left;\">Float64</th><th title = \"Float64\" style = \"text-align: left;\">Float64</th><th title = \"Float64\" style = \"text-align: left;\">Float64</th><th title = \"Float64\" style = \"text-align: left;\">Float64</th><th title = \"Float64\" style = \"text-align: left;\">Float64</th><th title = \"Float64\" style = \"text-align: left;\">Float64</th><th title = \"Float64\" style = \"text-align: left;\">Float64</th><th title = \"Float64\" style = \"text-align: left;\">Float64</th><th title = \"Float64\" style = \"text-align: left;\">Float64</th><th title = \"Float64\" style = \"text-align: left;\">Float64</th><th title = \"Float64\" style = \"text-align: left;\">Float64</th><th title = \"Float64\" style = \"text-align: left;\">Float64</th><th title = \"Float64\" style = \"text-align: left;\">Float64</th><th title = \"Float64\" style = \"text-align: left;\">Float64</th><th title = \"Float64\" style = \"text-align: left;\">Float64</th><th title = \"Float64\" style = \"text-align: left;\">Float64</th><th title = \"Float64\" style = \"text-align: left;\">Float64</th><th title = \"Float64\" style = \"text-align: left;\">Float64</th><th title = \"Float64\" style = \"text-align: left;\">Float64</th><th title = \"Float64\" style = \"text-align: left;\">Float64</th><th title = \"Float64\" style = \"text-align: left;\">Float64</th><th title = \"Float64\" style = \"text-align: left;\">Float64</th><th title = \"Float64\" style = \"text-align: left;\">Float64</th><th title = \"Float64\" style = \"text-align: left;\">Float64</th><th title = \"Float64\" style = \"text-align: left;\">Float64</th><th title = \"Float64\" style = \"text-align: left;\">Float64</th><th title = \"Float64\" style = \"text-align: left;\">Float64</th><th title = \"Float64\" style = \"text-align: left;\">Float64</th><th title = \"Float64\" style = \"text-align: left;\">Float64</th><th title = \"Float64\" style = \"text-align: left;\">Float64</th><th title = \"Float64\" style = \"text-align: left;\">Float64</th><th title = \"Float64\" style = \"text-align: left;\">Float64</th><th title = \"Float64\" style = \"text-align: left;\">Float64</th><th title = \"Float64\" style = \"text-align: left;\">Float64</th><th title = \"Float64\" style = \"text-align: left;\">Float64</th><th title = \"Float64\" style = \"text-align: left;\">Float64</th><th title = \"Float64\" style = \"text-align: left;\">Float64</th><th title = \"Float64\" style = \"text-align: left;\">Float64</th><th title = \"Float64\" style = \"text-align: left;\">Float64</th><th title = \"Float64\" style = \"text-align: left;\">Float64</th><th title = \"Float64\" style = \"text-align: left;\">Float64</th><th title = \"Float64\" style = \"text-align: left;\">Float64</th><th title = \"Float64\" style = \"text-align: left;\">Float64</th><th title = \"Float64\" style = \"text-align: left;\">Float64</th><th title = \"Float64\" style = \"text-align: left;\">Float64</th><th title = \"Float64\" style = \"text-align: left;\">Float64</th><th title = \"Float64\" style = \"text-align: left;\">Float64</th><th title = \"Float64\" style = \"text-align: left;\">Float64</th><th title = \"Float64\" style = \"text-align: left;\">Float64</th><th title = \"Float64\" style = \"text-align: left;\">Float64</th><th title = \"Float64\" style = \"text-align: left;\">Float64</th><th title = \"Float64\" style = \"text-align: left;\">Float64</th><th title = \"Float64\" style = \"text-align: left;\">Float64</th><th title = \"Float64\" style = \"text-align: left;\">Float64</th><th title = \"Float64\" style = \"text-align: left;\">Float64</th><th title = \"Float64\" style = \"text-align: left;\">Float64</th><th title = \"Float64\" style = \"text-align: left;\">Float64</th><th title = \"Float64\" style = \"text-align: left;\">Float64</th><th title = \"Float64\" style = \"text-align: left;\">Float64</th><th title = \"Float64\" style = \"text-align: left;\">Float64</th><th title = \"Float64\" style = \"text-align: left;\">Float64</th><th title = \"Float64\" style = \"text-align: left;\">Float64</th><th title = \"Float64\" style = \"text-align: left;\">Float64</th><th title = \"Float64\" style = \"text-align: left;\">Float64</th><th title = \"Float64\" style = \"text-align: left;\">Float64</th><th title = \"Float64\" style = \"text-align: left;\">Float64</th><th title = \"Float64\" style = \"text-align: left;\">Float64</th><th title = \"Float64\" style = \"text-align: left;\">Float64</th><th title = \"Float64\" style = \"text-align: left;\">Float64</th><th title = \"Float64\" style = \"text-align: left;\">Float64</th><th title = \"Float64\" style = \"text-align: left;\">Float64</th><th title = \"Float64\" style = \"text-align: left;\">Float64</th><th title = \"Float64\" style = \"text-align: left;\">Float64</th><th title = \"Float64\" style = \"text-align: left;\">Float64</th><th title = \"Float64\" style = \"text-align: left;\">Float64</th><th title = \"Float64\" style = \"text-align: left;\">Float64</th><th title = \"Float64\" style = \"text-align: left;\">Float64</th><th title = \"Float64\" style = \"text-align: left;\">Float64</th><th title = \"Float64\" style = \"text-align: left;\">Float64</th><th title = \"Float64\" style = \"text-align: left;\">Float64</th><th title = \"Float64\" style = \"text-align: left;\">Float64</th><th title = \"Float64\" style = \"text-align: left;\">Float64</th><th title = \"Float64\" style = \"text-align: right;\">&ctdot;</th></tr></thead><tbody><tr><td class = \"rowNumber\" style = \"font-weight: bold; text-align: right;\">1</td><td style = \"text-align: right;\">-1.79656e-34</td><td style = \"text-align: right;\">0.2</td><td style = \"text-align: right;\">0.4</td><td style = \"text-align: right;\">0.6</td><td style = \"text-align: right;\">0.8</td><td style = \"text-align: right;\">1.0</td><td style = \"text-align: right;\">1.2</td><td style = \"text-align: right;\">1.4</td><td style = \"text-align: right;\">1.6</td><td style = \"text-align: right;\">1.8</td><td style = \"text-align: right;\">2.0</td><td style = \"text-align: right;\">2.2</td><td style = \"text-align: right;\">2.4</td><td style = \"text-align: right;\">2.6</td><td style = \"text-align: right;\">2.8</td><td style = \"text-align: right;\">3.0</td><td style = \"text-align: right;\">3.2</td><td style = \"text-align: right;\">3.4</td><td style = \"text-align: right;\">3.6</td><td style = \"text-align: right;\">3.8</td><td style = \"text-align: right;\">4.0</td><td style = \"text-align: right;\">4.2</td><td style = \"text-align: right;\">4.4</td><td style = \"text-align: right;\">4.6</td><td style = \"text-align: right;\">4.8</td><td style = \"text-align: right;\">5.0</td><td style = \"text-align: right;\">5.2</td><td style = \"text-align: right;\">5.4</td><td style = \"text-align: right;\">5.6</td><td style = \"text-align: right;\">5.8</td><td style = \"text-align: right;\">6.0</td><td style = \"text-align: right;\">6.2</td><td style = \"text-align: right;\">6.4</td><td style = \"text-align: right;\">6.6</td><td style = \"text-align: right;\">6.8</td><td style = \"text-align: right;\">6.99503</td><td style = \"text-align: right;\">7.17925</td><td style = \"text-align: right;\">7.35218</td><td style = \"text-align: right;\">7.51451</td><td style = \"text-align: right;\">7.66689</td><td style = \"text-align: right;\">7.80993</td><td style = \"text-align: right;\">7.94419</td><td style = \"text-align: right;\">8.07023</td><td style = \"text-align: right;\">8.18854</td><td style = \"text-align: right;\">8.29959</td><td style = \"text-align: right;\">8.40384</td><td style = \"text-align: right;\">8.50169</td><td style = \"text-align: right;\">8.59355</td><td style = \"text-align: right;\">8.67977</td><td style = \"text-align: right;\">8.76071</td><td style = \"text-align: right;\">8.83669</td><td style = \"text-align: right;\">8.90801</td><td style = \"text-align: right;\">8.97496</td><td style = \"text-align: right;\">9.0378</td><td style = \"text-align: right;\">9.09679</td><td style = \"text-align: right;\">9.15216</td><td style = \"text-align: right;\">9.20414</td><td style = \"text-align: right;\">9.25293</td><td style = \"text-align: right;\">9.29873</td><td style = \"text-align: right;\">9.34172</td><td style = \"text-align: right;\">9.38208</td><td style = \"text-align: right;\">9.41996</td><td style = \"text-align: right;\">9.45552</td><td style = \"text-align: right;\">9.4889</td><td style = \"text-align: right;\">9.52024</td><td style = \"text-align: right;\">9.54965</td><td style = \"text-align: right;\">9.57726</td><td style = \"text-align: right;\">9.60318</td><td style = \"text-align: right;\">9.6275</td><td style = \"text-align: right;\">9.65034</td><td style = \"text-align: right;\">9.67178</td><td style = \"text-align: right;\">9.6919</td><td style = \"text-align: right;\">9.71079</td><td style = \"text-align: right;\">9.72852</td><td style = \"text-align: right;\">9.74516</td><td style = \"text-align: right;\">9.76079</td><td style = \"text-align: right;\">9.77545</td><td style = \"text-align: right;\">9.78922</td><td style = \"text-align: right;\">9.80214</td><td style = \"text-align: right;\">9.81427</td><td style = \"text-align: right;\">9.82566</td><td style = \"text-align: right;\">9.83635</td><td style = \"text-align: right;\">9.84638</td><td style = \"text-align: right;\">9.8558</td><td style = \"text-align: right;\">9.86464</td><td style = \"text-align: right;\">9.87294</td><td style = \"text-align: right;\">9.88073</td><td style = \"text-align: right;\">9.88804</td><td style = \"text-align: right;\">9.8949</td><td style = \"text-align: right;\">9.90135</td><td style = \"text-align: right;\">9.90739</td><td style = \"text-align: right;\">9.91307</td><td style = \"text-align: right;\">9.9184</td><td style = \"text-align: right;\">9.9234</td><td style = \"text-align: right;\">9.9281</td><td style = \"text-align: right;\">9.93251</td><td style = \"text-align: right;\">9.93664</td><td style = \"text-align: right;\">9.94053</td><td style = \"text-align: right;\">9.94417</td><td style = \"text-align: right;\">9.9476</td><td style = \"text-align: right;\">&ctdot;</td></tr><tr><td class = \"rowNumber\" style = \"font-weight: bold; text-align: right;\">2</td><td style = \"text-align: right;\">0.0</td><td style = \"text-align: right;\">-3.12471e-11</td><td style = \"text-align: right;\">-1.62104e-10</td><td style = \"text-align: right;\">-3.99308e-10</td><td style = \"text-align: right;\">-7.36377e-10</td><td style = \"text-align: right;\">-1.16719e-9</td><td style = \"text-align: right;\">-1.68475e-9</td><td style = \"text-align: right;\">-2.28048e-9</td><td style = \"text-align: right;\">-2.94408e-9</td><td style = \"text-align: right;\">-3.66365e-9</td><td style = \"text-align: right;\">-4.42604e-9</td><td style = \"text-align: right;\">-5.21728e-9</td><td style = \"text-align: right;\">-6.02297e-9</td><td style = \"text-align: right;\">-6.82867e-9</td><td style = \"text-align: right;\">-7.62023e-9</td><td style = \"text-align: right;\">-8.38403e-9</td><td style = \"text-align: right;\">-9.10724e-9</td><td style = \"text-align: right;\">-9.77798e-9</td><td style = \"text-align: right;\">-1.03854e-8</td><td style = \"text-align: right;\">-1.092e-8</td><td style = \"text-align: right;\">-1.13732e-8</td><td style = \"text-align: right;\">-1.17379e-8</td><td style = \"text-align: right;\">-1.20084e-8</td><td style = \"text-align: right;\">-1.21801e-8</td><td style = \"text-align: right;\">-1.22499e-8</td><td style = \"text-align: right;\">-1.22157e-8</td><td style = \"text-align: right;\">-1.20768e-8</td><td style = \"text-align: right;\">-1.18337e-8</td><td style = \"text-align: right;\">-1.1488e-8</td><td style = \"text-align: right;\">-1.10422e-8</td><td style = \"text-align: right;\">-1.05001e-8</td><td style = \"text-align: right;\">-9.86621e-9</td><td style = \"text-align: right;\">-9.14603e-9</td><td style = \"text-align: right;\">-8.34584e-9</td><td style = \"text-align: right;\">-7.47264e-9</td><td style = \"text-align: right;\">-6.55826e-9</td><td style = \"text-align: right;\">-5.6453e-9</td><td style = \"text-align: right;\">-4.75272e-9</td><td style = \"text-align: right;\">-3.89109e-9</td><td style = \"text-align: right;\">-3.06854e-9</td><td style = \"text-align: right;\">-2.29105e-9</td><td style = \"text-align: right;\">-1.56277e-9</td><td style = \"text-align: right;\">-8.86316e-10</td><td style = \"text-align: right;\">-2.63006e-10</td><td style = \"text-align: right;\">3.06878e-10</td><td style = \"text-align: right;\">8.23904e-10</td><td style = \"text-align: right;\">1.28931e-9</td><td style = \"text-align: right;\">1.70485e-9</td><td style = \"text-align: right;\">2.07268e-9</td><td style = \"text-align: right;\">2.3952e-9</td><td style = \"text-align: right;\">2.67504e-9</td><td style = \"text-align: right;\">2.91491e-9</td><td style = \"text-align: right;\">3.11758e-9</td><td style = \"text-align: right;\">3.28585e-9</td><td style = \"text-align: right;\">3.42243e-9</td><td style = \"text-align: right;\">3.53e-9</td><td style = \"text-align: right;\">3.61114e-9</td><td style = \"text-align: right;\">3.66832e-9</td><td style = \"text-align: right;\">3.70389e-9</td><td style = \"text-align: right;\">3.72006e-9</td><td style = \"text-align: right;\">3.71892e-9</td><td style = \"text-align: right;\">3.70241e-9</td><td style = \"text-align: right;\">3.67236e-9</td><td style = \"text-align: right;\">3.63044e-9</td><td style = \"text-align: right;\">3.5782e-9</td><td style = \"text-align: right;\">3.51707e-9</td><td style = \"text-align: right;\">3.44836e-9</td><td style = \"text-align: right;\">3.37325e-9</td><td style = \"text-align: right;\">3.29283e-9</td><td style = \"text-align: right;\">3.20808e-9</td><td style = \"text-align: right;\">3.1199e-9</td><td style = \"text-align: right;\">3.02907e-9</td><td style = \"text-align: right;\">2.93631e-9</td><td style = \"text-align: right;\">2.84226e-9</td><td style = \"text-align: right;\">2.74749e-9</td><td style = \"text-align: right;\">2.6525e-9</td><td style = \"text-align: right;\">2.55772e-9</td><td style = \"text-align: right;\">2.46356e-9</td><td style = \"text-align: right;\">2.37035e-9</td><td style = \"text-align: right;\">2.27837e-9</td><td style = \"text-align: right;\">2.18788e-9</td><td style = \"text-align: right;\">2.09909e-9</td><td style = \"text-align: right;\">2.01218e-9</td><td style = \"text-align: right;\">1.9273e-9</td><td style = \"text-align: right;\">1.84457e-9</td><td style = \"text-align: right;\">1.76408e-9</td><td style = \"text-align: right;\">1.68591e-9</td><td style = \"text-align: right;\">1.61011e-9</td><td style = \"text-align: right;\">1.53672e-9</td><td style = \"text-align: right;\">1.46576e-9</td><td style = \"text-align: right;\">1.39724e-9</td><td style = \"text-align: right;\">1.33116e-9</td><td style = \"text-align: right;\">1.2675e-9</td><td style = \"text-align: right;\">1.20623e-9</td><td style = \"text-align: right;\">1.14734e-9</td><td style = \"text-align: right;\">1.09078e-9</td><td style = \"text-align: right;\">1.0365e-9</td><td style = \"text-align: right;\">9.84468e-10</td><td style = \"text-align: right;\">9.34622e-10</td><td style = \"text-align: right;\">8.86909e-10</td><td style = \"text-align: right;\">&ctdot;</td></tr><tr><td class = \"rowNumber\" style = \"font-weight: bold; text-align: right;\">3</td><td style = \"text-align: right;\">0.0</td><td style = \"text-align: right;\">-2.00235e-11</td><td style = \"text-align: right;\">-9.99598e-11</td><td style = \"text-align: right;\">-2.36243e-10</td><td style = \"text-align: right;\">-4.17801e-10</td><td style = \"text-align: right;\">-6.35161e-10</td><td style = \"text-align: right;\">-8.79475e-10</td><td style = \"text-align: right;\">-1.14202e-9</td><td style = \"text-align: right;\">-1.41407e-9</td><td style = \"text-align: right;\">-1.687e-9</td><td style = \"text-align: right;\">-1.9525e-9</td><td style = \"text-align: right;\">-2.20277e-9</td><td style = \"text-align: right;\">-2.43071e-9</td><td style = \"text-align: right;\">-2.63011e-9</td><td style = \"text-align: right;\">-2.79569e-9</td><td style = \"text-align: right;\">-2.92319e-9</td><td style = \"text-align: right;\">-3.00936e-9</td><td style = \"text-align: right;\">-3.05194e-9</td><td style = \"text-align: right;\">-3.04963e-9</td><td style = \"text-align: right;\">-3.00204e-9</td><td style = \"text-align: right;\">-2.90957e-9</td><td style = \"text-align: right;\">-2.77339e-9</td><td style = \"text-align: right;\">-2.59536e-9</td><td style = \"text-align: right;\">-2.37787e-9</td><td style = \"text-align: right;\">-2.12387e-9</td><td style = \"text-align: right;\">-1.83669e-9</td><td style = \"text-align: right;\">-1.52003e-9</td><td style = \"text-align: right;\">-1.17784e-9</td><td style = \"text-align: right;\">-8.14318e-10</td><td style = \"text-align: right;\">-4.33769e-10</td><td style = \"text-align: right;\">-4.06105e-11</td><td style = \"text-align: right;\">3.60707e-10</td><td style = \"text-align: right;\">7.65743e-10</td><td style = \"text-align: right;\">1.17011e-9</td><td style = \"text-align: right;\">1.56953e-9</td><td style = \"text-align: right;\">1.95019e-9</td><td style = \"text-align: right;\">2.29782e-9</td><td style = \"text-align: right;\">2.60983e-9</td><td style = \"text-align: right;\">2.88668e-9</td><td style = \"text-align: right;\">3.12932e-9</td><td style = \"text-align: right;\">3.3391e-9</td><td style = \"text-align: right;\">3.5176e-9</td><td style = \"text-align: right;\">3.66662e-9</td><td style = \"text-align: right;\">3.78805e-9</td><td style = \"text-align: right;\">3.88386e-9</td><td style = \"text-align: right;\">3.95601e-9</td><td style = \"text-align: right;\">4.00647e-9</td><td style = \"text-align: right;\">4.03712e-9</td><td style = \"text-align: right;\">4.04983e-9</td><td style = \"text-align: right;\">4.04635e-9</td><td style = \"text-align: right;\">4.02834e-9</td><td style = \"text-align: right;\">3.99741e-9</td><td style = \"text-align: right;\">3.95501e-9</td><td style = \"text-align: right;\">3.90255e-9</td><td style = \"text-align: right;\">3.8413e-9</td><td style = \"text-align: right;\">3.77244e-9</td><td style = \"text-align: right;\">3.69709e-9</td><td style = \"text-align: right;\">3.61624e-9</td><td style = \"text-align: right;\">3.53081e-9</td><td style = \"text-align: right;\">3.44165e-9</td><td style = \"text-align: right;\">3.34951e-9</td><td style = \"text-align: right;\">3.25509e-9</td><td style = \"text-align: right;\">3.15901e-9</td><td style = \"text-align: right;\">3.06184e-9</td><td style = \"text-align: right;\">2.96406e-9</td><td style = \"text-align: right;\">2.86614e-9</td><td style = \"text-align: right;\">2.76846e-9</td><td style = \"text-align: right;\">2.67139e-9</td><td style = \"text-align: right;\">2.57522e-9</td><td style = \"text-align: right;\">2.48024e-9</td><td style = \"text-align: right;\">2.38666e-9</td><td style = \"text-align: right;\">2.29471e-9</td><td style = \"text-align: right;\">2.20453e-9</td><td style = \"text-align: right;\">2.1163e-9</td><td style = \"text-align: right;\">2.03011e-9</td><td style = \"text-align: right;\">1.94607e-9</td><td style = \"text-align: right;\">1.86426e-9</td><td style = \"text-align: right;\">1.78474e-9</td><td style = \"text-align: right;\">1.70755e-9</td><td style = \"text-align: right;\">1.63273e-9</td><td style = \"text-align: right;\">1.56028e-9</td><td style = \"text-align: right;\">1.49022e-9</td><td style = \"text-align: right;\">1.42254e-9</td><td style = \"text-align: right;\">1.35722e-9</td><td style = \"text-align: right;\">1.29425e-9</td><td style = \"text-align: right;\">1.2336e-9</td><td style = \"text-align: right;\">1.17523e-9</td><td style = \"text-align: right;\">1.1191e-9</td><td style = \"text-align: right;\">1.06518e-9</td><td style = \"text-align: right;\">1.01341e-9</td><td style = \"text-align: right;\">9.63743e-10</td><td style = \"text-align: right;\">9.1613e-10</td><td style = \"text-align: right;\">8.70515e-10</td><td style = \"text-align: right;\">8.26844e-10</td><td style = \"text-align: right;\">7.85058e-10</td><td style = \"text-align: right;\">7.45101e-10</td><td style = \"text-align: right;\">7.06915e-10</td><td style = \"text-align: right;\">6.70442e-10</td><td style = \"text-align: right;\">6.35624e-10</td><td style = \"text-align: right;\">6.02403e-10</td><td style = \"text-align: right;\">&ctdot;</td></tr><tr><td class = \"rowNumber\" style = \"font-weight: bold; text-align: right;\">4</td><td style = \"text-align: right;\">0.0</td><td style = \"text-align: right;\">-6.40315e-10</td><td style = \"text-align: right;\">-1.48711e-9</td><td style = \"text-align: right;\">-2.1681e-9</td><td style = \"text-align: right;\">-2.71303e-9</td><td style = \"text-align: right;\">-3.13596e-9</td><td style = \"text-align: right;\">-3.44092e-9</td><td style = \"text-align: right;\">-3.62808e-9</td><td style = \"text-align: right;\">-3.69779e-9</td><td style = \"text-align: right;\">-3.65266e-9</td><td style = \"text-align: right;\">-3.49823e-9</td><td style = \"text-align: right;\">-3.24294e-9</td><td style = \"text-align: right;\">-2.89752e-9</td><td style = \"text-align: right;\">-2.47434e-9</td><td style = \"text-align: right;\">-1.98674e-9</td><td style = \"text-align: right;\">-1.44842e-9</td><td style = \"text-align: right;\">-8.73029e-10</td><td style = \"text-align: right;\">-2.73754e-10</td><td style = \"text-align: right;\">3.36891e-10</td><td style = \"text-align: right;\">9.4727e-10</td><td style = \"text-align: right;\">1.54674e-9</td><td style = \"text-align: right;\">2.12574e-9</td><td style = \"text-align: right;\">2.67581e-9</td><td style = \"text-align: right;\">3.18962e-9</td><td style = \"text-align: right;\">3.66094e-9</td><td style = \"text-align: right;\">4.08458e-9</td><td style = \"text-align: right;\">4.45639e-9</td><td style = \"text-align: right;\">4.77311e-9</td><td style = \"text-align: right;\">5.03235e-9</td><td style = \"text-align: right;\">5.23251e-9</td><td style = \"text-align: right;\">5.37274e-9</td><td style = \"text-align: right;\">5.45283e-9</td><td style = \"text-align: right;\">5.47327e-9</td><td style = \"text-align: right;\">5.43507e-9</td><td style = \"text-align: right;\">5.33981e-9</td><td style = \"text-align: right;\">5.18998e-9</td><td style = \"text-align: right;\">4.98959e-9</td><td style = \"text-align: right;\">4.74353e-9</td><td style = \"text-align: right;\">4.4566e-9</td><td style = \"text-align: right;\">4.13323e-9</td><td style = \"text-align: right;\">3.7775e-9</td><td style = \"text-align: right;\">3.39311e-9</td><td style = \"text-align: right;\">2.98337e-9</td><td style = \"text-align: right;\">2.55128e-9</td><td style = \"text-align: right;\">2.09951e-9</td><td style = \"text-align: right;\">1.63046e-9</td><td style = \"text-align: right;\">1.14625e-9</td><td style = \"text-align: right;\">6.48791e-10</td><td style = \"text-align: right;\">1.39777e-10</td><td style = \"text-align: right;\">-3.79281e-10</td><td style = \"text-align: right;\">-9.07033e-10</td><td style = \"text-align: right;\">-1.44227e-9</td><td style = \"text-align: right;\">-1.98392e-9</td><td style = \"text-align: right;\">-2.53102e-9</td><td style = \"text-align: right;\">-3.08269e-9</td><td style = \"text-align: right;\">-3.63815e-9</td><td style = \"text-align: right;\">-4.1967e-9</td><td style = \"text-align: right;\">-4.75769e-9</td><td style = \"text-align: right;\">-5.32056e-9</td><td style = \"text-align: right;\">-5.88475e-9</td><td style = \"text-align: right;\">-6.44981e-9</td><td style = \"text-align: right;\">-7.01528e-9</td><td style = \"text-align: right;\">-7.58076e-9</td><td style = \"text-align: right;\">-8.14587e-9</td><td style = \"text-align: right;\">-8.71028e-9</td><td style = \"text-align: right;\">-9.27367e-9</td><td style = \"text-align: right;\">-9.83574e-9</td><td style = \"text-align: right;\">-1.03962e-8</td><td style = \"text-align: right;\">-1.09549e-8</td><td style = \"text-align: right;\">-1.15115e-8</td><td style = \"text-align: right;\">-1.20657e-8</td><td style = \"text-align: right;\">-1.26175e-8</td><td style = \"text-align: right;\">-1.31666e-8</td><td style = \"text-align: right;\">-1.37128e-8</td><td style = \"text-align: right;\">-1.4256e-8</td><td style = \"text-align: right;\">-1.4796e-8</td><td style = \"text-align: right;\">-1.53326e-8</td><td style = \"text-align: right;\">-1.58656e-8</td><td style = \"text-align: right;\">-1.6395e-8</td><td style = \"text-align: right;\">-1.69206e-8</td><td style = \"text-align: right;\">-1.74423e-8</td><td style = \"text-align: right;\">-1.79598e-8</td><td style = \"text-align: right;\">-1.84731e-8</td><td style = \"text-align: right;\">-1.89821e-8</td><td style = \"text-align: right;\">-1.94866e-8</td><td style = \"text-align: right;\">-1.99864e-8</td><td style = \"text-align: right;\">-2.04815e-8</td><td style = \"text-align: right;\">-2.09716e-8</td><td style = \"text-align: right;\">-2.14568e-8</td><td style = \"text-align: right;\">-2.19368e-8</td><td style = \"text-align: right;\">-2.24114e-8</td><td style = \"text-align: right;\">-2.28806e-8</td><td style = \"text-align: right;\">-2.33442e-8</td><td style = \"text-align: right;\">-2.38021e-8</td><td style = \"text-align: right;\">-2.42541e-8</td><td style = \"text-align: right;\">-2.47001e-8</td><td style = \"text-align: right;\">-2.514e-8</td><td style = \"text-align: right;\">-2.55736e-8</td><td style = \"text-align: right;\">-2.60007e-8</td><td style = \"text-align: right;\">-2.64212e-8</td><td style = \"text-align: right;\">&ctdot;</td></tr></tbody></table></div>"
      ],
      "text/latex": [
       "\\begin{tabular}{r|ccccccc}\n",
       "\t& x1 & x2 & x3 & x4 & x5 & x6 & \\\\\n",
       "\t\\hline\n",
       "\t& Float64 & Float64 & Float64 & Float64 & Float64 & Float64 & \\\\\n",
       "\t\\hline\n",
       "\t1 & -1.79656e-34 & 0.2 & 0.4 & 0.6 & 0.8 & 1.0 & $\\dots$ \\\\\n",
       "\t2 & 0.0 & -3.12471e-11 & -1.62104e-10 & -3.99308e-10 & -7.36377e-10 & -1.16719e-9 & $\\dots$ \\\\\n",
       "\t3 & 0.0 & -2.00235e-11 & -9.99598e-11 & -2.36243e-10 & -4.17801e-10 & -6.35161e-10 & $\\dots$ \\\\\n",
       "\t4 & 0.0 & -6.40315e-10 & -1.48711e-9 & -2.1681e-9 & -2.71303e-9 & -3.13596e-9 & $\\dots$ \\\\\n",
       "\\end{tabular}\n"
      ],
      "text/plain": [
       "\u001b[1m4×251 DataFrame\u001b[0m\n",
       "\u001b[1m Row \u001b[0m│\u001b[1m x1           \u001b[0m\u001b[1m x2           \u001b[0m\u001b[1m x3           \u001b[0m\u001b[1m x4           \u001b[0m\u001b[1m x5           \u001b[0m\u001b[1m x\u001b[0m ⋯\n",
       "     │\u001b[90m Float64      \u001b[0m\u001b[90m Float64      \u001b[0m\u001b[90m Float64      \u001b[0m\u001b[90m Float64      \u001b[0m\u001b[90m Float64      \u001b[0m\u001b[90m F\u001b[0m ⋯\n",
       "─────┼──────────────────────────────────────────────────────────────────────────\n",
       "   1 │ -1.79656e-34   0.2           0.4           0.6           0.8            ⋯\n",
       "   2 │  0.0          -3.12471e-11  -1.62104e-10  -3.99308e-10  -7.36377e-10  -\n",
       "   3 │  0.0          -2.00235e-11  -9.99598e-11  -2.36243e-10  -4.17801e-10  -\n",
       "   4 │  0.0          -6.40315e-10  -1.48711e-9   -2.1681e-9    -2.71303e-9   -\n",
       "\u001b[36m                                                             246 columns omitted\u001b[0m"
      ]
     },
     "execution_count": 77,
     "metadata": {},
     "output_type": "execute_result"
    }
   ],
   "source": [
    "df_xtraj = DataFrame(xtraj, :auto)"
   ]
  },
  {
   "cell_type": "code",
   "execution_count": 79,
   "metadata": {},
   "outputs": [
    {
     "data": {
      "text/plain": [
       "\"xtraj_straight.csv\""
      ]
     },
     "execution_count": 79,
     "metadata": {},
     "output_type": "execute_result"
    }
   ],
   "source": [
    "CSV.write(\"xtraj_straight.csv\", df_xtraj)"
   ]
  },
  {
   "cell_type": "code",
   "execution_count": 82,
   "metadata": {},
   "outputs": [
    {
     "name": "stdout",
     "output_type": "stream",
     "text": [
      "(4, 251)"
     ]
    }
   ],
   "source": [
    "print(size(xtraj))"
   ]
  },
  {
   "cell_type": "code",
   "execution_count": 83,
   "metadata": {},
   "outputs": [
    {
     "data": {
      "text/html": [
       "<div><div style = \"float: left;\"><span>2×251 DataFrame</span></div><div style = \"float: right;\"><span style = \"font-style: italic;\">151 columns omitted</span></div><div style = \"clear: both;\"></div></div><div class = \"data-frame\" style = \"overflow-x: scroll;\"><table class = \"data-frame\" style = \"margin-bottom: 6px;\"><thead><tr class = \"header\"><th class = \"rowNumber\" style = \"font-weight: bold; text-align: right;\">Row</th><th style = \"text-align: left;\">x1</th><th style = \"text-align: left;\">x2</th><th style = \"text-align: left;\">x3</th><th style = \"text-align: left;\">x4</th><th style = \"text-align: left;\">x5</th><th style = \"text-align: left;\">x6</th><th style = \"text-align: left;\">x7</th><th style = \"text-align: left;\">x8</th><th style = \"text-align: left;\">x9</th><th style = \"text-align: left;\">x10</th><th style = \"text-align: left;\">x11</th><th style = \"text-align: left;\">x12</th><th style = \"text-align: left;\">x13</th><th style = \"text-align: left;\">x14</th><th style = \"text-align: left;\">x15</th><th style = \"text-align: left;\">x16</th><th style = \"text-align: left;\">x17</th><th style = \"text-align: left;\">x18</th><th style = \"text-align: left;\">x19</th><th style = \"text-align: left;\">x20</th><th style = \"text-align: left;\">x21</th><th style = \"text-align: left;\">x22</th><th style = \"text-align: left;\">x23</th><th style = \"text-align: left;\">x24</th><th style = \"text-align: left;\">x25</th><th style = \"text-align: left;\">x26</th><th style = \"text-align: left;\">x27</th><th style = \"text-align: left;\">x28</th><th style = \"text-align: left;\">x29</th><th style = \"text-align: left;\">x30</th><th style = \"text-align: left;\">x31</th><th style = \"text-align: left;\">x32</th><th style = \"text-align: left;\">x33</th><th style = \"text-align: left;\">x34</th><th style = \"text-align: left;\">x35</th><th style = \"text-align: left;\">x36</th><th style = \"text-align: left;\">x37</th><th style = \"text-align: left;\">x38</th><th style = \"text-align: left;\">x39</th><th style = \"text-align: left;\">x40</th><th style = \"text-align: left;\">x41</th><th style = \"text-align: left;\">x42</th><th style = \"text-align: left;\">x43</th><th style = \"text-align: left;\">x44</th><th style = \"text-align: left;\">x45</th><th style = \"text-align: left;\">x46</th><th style = \"text-align: left;\">x47</th><th style = \"text-align: left;\">x48</th><th style = \"text-align: left;\">x49</th><th style = \"text-align: left;\">x50</th><th style = \"text-align: left;\">x51</th><th style = \"text-align: left;\">x52</th><th style = \"text-align: left;\">x53</th><th style = \"text-align: left;\">x54</th><th style = \"text-align: left;\">x55</th><th style = \"text-align: left;\">x56</th><th style = \"text-align: left;\">x57</th><th style = \"text-align: left;\">x58</th><th style = \"text-align: left;\">x59</th><th style = \"text-align: left;\">x60</th><th style = \"text-align: left;\">x61</th><th style = \"text-align: left;\">x62</th><th style = \"text-align: left;\">x63</th><th style = \"text-align: left;\">x64</th><th style = \"text-align: left;\">x65</th><th style = \"text-align: left;\">x66</th><th style = \"text-align: left;\">x67</th><th style = \"text-align: left;\">x68</th><th style = \"text-align: left;\">x69</th><th style = \"text-align: left;\">x70</th><th style = \"text-align: left;\">x71</th><th style = \"text-align: left;\">x72</th><th style = \"text-align: left;\">x73</th><th style = \"text-align: left;\">x74</th><th style = \"text-align: left;\">x75</th><th style = \"text-align: left;\">x76</th><th style = \"text-align: left;\">x77</th><th style = \"text-align: left;\">x78</th><th style = \"text-align: left;\">x79</th><th style = \"text-align: left;\">x80</th><th style = \"text-align: left;\">x81</th><th style = \"text-align: left;\">x82</th><th style = \"text-align: left;\">x83</th><th style = \"text-align: left;\">x84</th><th style = \"text-align: left;\">x85</th><th style = \"text-align: left;\">x86</th><th style = \"text-align: left;\">x87</th><th style = \"text-align: left;\">x88</th><th style = \"text-align: left;\">x89</th><th style = \"text-align: left;\">x90</th><th style = \"text-align: left;\">x91</th><th style = \"text-align: left;\">x92</th><th style = \"text-align: left;\">x93</th><th style = \"text-align: left;\">x94</th><th style = \"text-align: left;\">x95</th><th style = \"text-align: left;\">x96</th><th style = \"text-align: left;\">x97</th><th style = \"text-align: left;\">x98</th><th style = \"text-align: left;\">x99</th><th style = \"text-align: left;\">x100</th><th style = \"text-align: right;\">&ctdot;</th></tr><tr class = \"subheader headerLastRow\"><th class = \"rowNumber\" style = \"font-weight: bold; text-align: right;\"></th><th title = \"Float64\" style = \"text-align: left;\">Float64</th><th title = \"Float64\" style = \"text-align: left;\">Float64</th><th title = \"Float64\" style = \"text-align: left;\">Float64</th><th title = \"Float64\" style = \"text-align: left;\">Float64</th><th title = \"Float64\" style = \"text-align: left;\">Float64</th><th title = \"Float64\" style = \"text-align: left;\">Float64</th><th title = \"Float64\" style = \"text-align: left;\">Float64</th><th title = \"Float64\" style = \"text-align: left;\">Float64</th><th title = \"Float64\" style = \"text-align: left;\">Float64</th><th title = \"Float64\" style = \"text-align: left;\">Float64</th><th title = \"Float64\" style = \"text-align: left;\">Float64</th><th title = \"Float64\" style = \"text-align: left;\">Float64</th><th title = \"Float64\" style = \"text-align: left;\">Float64</th><th title = \"Float64\" style = \"text-align: left;\">Float64</th><th title = \"Float64\" style = \"text-align: left;\">Float64</th><th title = \"Float64\" style = \"text-align: left;\">Float64</th><th title = \"Float64\" style = \"text-align: left;\">Float64</th><th title = \"Float64\" style = \"text-align: left;\">Float64</th><th title = \"Float64\" style = \"text-align: left;\">Float64</th><th title = \"Float64\" style = \"text-align: left;\">Float64</th><th title = \"Float64\" style = \"text-align: left;\">Float64</th><th title = \"Float64\" style = \"text-align: left;\">Float64</th><th title = \"Float64\" style = \"text-align: left;\">Float64</th><th title = \"Float64\" style = \"text-align: left;\">Float64</th><th title = \"Float64\" style = \"text-align: left;\">Float64</th><th title = \"Float64\" style = \"text-align: left;\">Float64</th><th title = \"Float64\" style = \"text-align: left;\">Float64</th><th title = \"Float64\" style = \"text-align: left;\">Float64</th><th title = \"Float64\" style = \"text-align: left;\">Float64</th><th title = \"Float64\" style = \"text-align: left;\">Float64</th><th title = \"Float64\" style = \"text-align: left;\">Float64</th><th title = \"Float64\" style = \"text-align: left;\">Float64</th><th title = \"Float64\" style = \"text-align: left;\">Float64</th><th title = \"Float64\" style = \"text-align: left;\">Float64</th><th title = \"Float64\" style = \"text-align: left;\">Float64</th><th title = \"Float64\" style = \"text-align: left;\">Float64</th><th title = \"Float64\" style = \"text-align: left;\">Float64</th><th title = \"Float64\" style = \"text-align: left;\">Float64</th><th title = \"Float64\" style = \"text-align: left;\">Float64</th><th title = \"Float64\" style = \"text-align: left;\">Float64</th><th title = \"Float64\" style = \"text-align: left;\">Float64</th><th title = \"Float64\" style = \"text-align: left;\">Float64</th><th title = \"Float64\" style = \"text-align: left;\">Float64</th><th title = \"Float64\" style = \"text-align: left;\">Float64</th><th title = \"Float64\" style = \"text-align: left;\">Float64</th><th title = \"Float64\" style = \"text-align: left;\">Float64</th><th title = \"Float64\" style = \"text-align: left;\">Float64</th><th title = \"Float64\" style = \"text-align: left;\">Float64</th><th title = \"Float64\" style = \"text-align: left;\">Float64</th><th title = \"Float64\" style = \"text-align: left;\">Float64</th><th title = \"Float64\" style = \"text-align: left;\">Float64</th><th title = \"Float64\" style = \"text-align: left;\">Float64</th><th title = \"Float64\" style = \"text-align: left;\">Float64</th><th title = \"Float64\" style = \"text-align: left;\">Float64</th><th title = \"Float64\" style = \"text-align: left;\">Float64</th><th title = \"Float64\" style = \"text-align: left;\">Float64</th><th title = \"Float64\" style = \"text-align: left;\">Float64</th><th title = \"Float64\" style = \"text-align: left;\">Float64</th><th title = \"Float64\" style = \"text-align: left;\">Float64</th><th title = \"Float64\" style = \"text-align: left;\">Float64</th><th title = \"Float64\" style = \"text-align: left;\">Float64</th><th title = \"Float64\" style = \"text-align: left;\">Float64</th><th title = \"Float64\" style = \"text-align: left;\">Float64</th><th title = \"Float64\" style = \"text-align: left;\">Float64</th><th title = \"Float64\" style = \"text-align: left;\">Float64</th><th title = \"Float64\" style = \"text-align: left;\">Float64</th><th title = \"Float64\" style = \"text-align: left;\">Float64</th><th title = \"Float64\" style = \"text-align: left;\">Float64</th><th title = \"Float64\" style = \"text-align: left;\">Float64</th><th title = \"Float64\" style = \"text-align: left;\">Float64</th><th title = \"Float64\" style = \"text-align: left;\">Float64</th><th title = \"Float64\" style = \"text-align: left;\">Float64</th><th title = \"Float64\" style = \"text-align: left;\">Float64</th><th title = \"Float64\" style = \"text-align: left;\">Float64</th><th title = \"Float64\" style = \"text-align: left;\">Float64</th><th title = \"Float64\" style = \"text-align: left;\">Float64</th><th title = \"Float64\" style = \"text-align: left;\">Float64</th><th title = \"Float64\" style = \"text-align: left;\">Float64</th><th title = \"Float64\" style = \"text-align: left;\">Float64</th><th title = \"Float64\" style = \"text-align: left;\">Float64</th><th title = \"Float64\" style = \"text-align: left;\">Float64</th><th title = \"Float64\" style = \"text-align: left;\">Float64</th><th title = \"Float64\" style = \"text-align: left;\">Float64</th><th title = \"Float64\" style = \"text-align: left;\">Float64</th><th title = \"Float64\" style = \"text-align: left;\">Float64</th><th title = \"Float64\" style = \"text-align: left;\">Float64</th><th title = \"Float64\" style = \"text-align: left;\">Float64</th><th title = \"Float64\" style = \"text-align: left;\">Float64</th><th title = \"Float64\" style = \"text-align: left;\">Float64</th><th title = \"Float64\" style = \"text-align: left;\">Float64</th><th title = \"Float64\" style = \"text-align: left;\">Float64</th><th title = \"Float64\" style = \"text-align: left;\">Float64</th><th title = \"Float64\" style = \"text-align: left;\">Float64</th><th title = \"Float64\" style = \"text-align: left;\">Float64</th><th title = \"Float64\" style = \"text-align: left;\">Float64</th><th title = \"Float64\" style = \"text-align: left;\">Float64</th><th title = \"Float64\" style = \"text-align: left;\">Float64</th><th title = \"Float64\" style = \"text-align: left;\">Float64</th><th title = \"Float64\" style = \"text-align: left;\">Float64</th><th title = \"Float64\" style = \"text-align: left;\">Float64</th><th title = \"Float64\" style = \"text-align: right;\">&ctdot;</th></tr></thead><tbody><tr><td class = \"rowNumber\" style = \"font-weight: bold; text-align: right;\">1</td><td style = \"text-align: right;\">10.0</td><td style = \"text-align: right;\">10.0</td><td style = \"text-align: right;\">10.0</td><td style = \"text-align: right;\">10.0</td><td style = \"text-align: right;\">10.0</td><td style = \"text-align: right;\">10.0</td><td style = \"text-align: right;\">10.0</td><td style = \"text-align: right;\">10.0</td><td style = \"text-align: right;\">10.0</td><td style = \"text-align: right;\">10.0</td><td style = \"text-align: right;\">10.0</td><td style = \"text-align: right;\">10.0</td><td style = \"text-align: right;\">10.0</td><td style = \"text-align: right;\">10.0</td><td style = \"text-align: right;\">10.0</td><td style = \"text-align: right;\">10.0</td><td style = \"text-align: right;\">10.0</td><td style = \"text-align: right;\">10.0</td><td style = \"text-align: right;\">10.0</td><td style = \"text-align: right;\">10.0</td><td style = \"text-align: right;\">10.0</td><td style = \"text-align: right;\">10.0</td><td style = \"text-align: right;\">10.0</td><td style = \"text-align: right;\">10.0</td><td style = \"text-align: right;\">10.0</td><td style = \"text-align: right;\">10.0</td><td style = \"text-align: right;\">10.0</td><td style = \"text-align: right;\">10.0</td><td style = \"text-align: right;\">10.0</td><td style = \"text-align: right;\">10.0</td><td style = \"text-align: right;\">10.0</td><td style = \"text-align: right;\">10.0</td><td style = \"text-align: right;\">10.0</td><td style = \"text-align: right;\">10.0</td><td style = \"text-align: right;\">10.0</td><td style = \"text-align: right;\">9.50257</td><td style = \"text-align: right;\">8.91999</td><td style = \"text-align: right;\">8.37313</td><td style = \"text-align: right;\">7.8598</td><td style = \"text-align: right;\">7.37794</td><td style = \"text-align: right;\">6.92563</td><td style = \"text-align: right;\">6.50104</td><td style = \"text-align: right;\">6.10248</td><td style = \"text-align: right;\">5.72836</td><td style = \"text-align: right;\">5.37717</td><td style = \"text-align: right;\">5.04751</td><td style = \"text-align: right;\">4.73806</td><td style = \"text-align: right;\">4.44759</td><td style = \"text-align: right;\">4.17492</td><td style = \"text-align: right;\">3.91897</td><td style = \"text-align: right;\">3.67871</td><td style = \"text-align: right;\">3.45318</td><td style = \"text-align: right;\">3.24148</td><td style = \"text-align: right;\">3.04275</td><td style = \"text-align: right;\">2.85621</td><td style = \"text-align: right;\">2.6811</td><td style = \"text-align: right;\">2.51673</td><td style = \"text-align: right;\">2.36244</td><td style = \"text-align: right;\">2.21761</td><td style = \"text-align: right;\">2.08165</td><td style = \"text-align: right;\">1.95403</td><td style = \"text-align: right;\">1.83424</td><td style = \"text-align: right;\">1.72179</td><td style = \"text-align: right;\">1.61623</td><td style = \"text-align: right;\">1.51714</td><td style = \"text-align: right;\">1.42413</td><td style = \"text-align: right;\">1.33682</td><td style = \"text-align: right;\">1.25487</td><td style = \"text-align: right;\">1.17793</td><td style = \"text-align: right;\">1.10572</td><td style = \"text-align: right;\">1.03793</td><td style = \"text-align: right;\">0.974298</td><td style = \"text-align: right;\">0.914566</td><td style = \"text-align: right;\">0.858497</td><td style = \"text-align: right;\">0.805866</td><td style = \"text-align: right;\">0.756461</td><td style = \"text-align: right;\">0.710084</td><td style = \"text-align: right;\">0.666551</td><td style = \"text-align: right;\">0.625687</td><td style = \"text-align: right;\">0.587328</td><td style = \"text-align: right;\">0.551321</td><td style = \"text-align: right;\">0.517521</td><td style = \"text-align: right;\">0.485794</td><td style = \"text-align: right;\">0.456012</td><td style = \"text-align: right;\">0.428055</td><td style = \"text-align: right;\">0.401812</td><td style = \"text-align: right;\">0.377179</td><td style = \"text-align: right;\">0.354055</td><td style = \"text-align: right;\">0.332349</td><td style = \"text-align: right;\">0.311974</td><td style = \"text-align: right;\">0.292848</td><td style = \"text-align: right;\">0.274894</td><td style = \"text-align: right;\">0.258041</td><td style = \"text-align: right;\">0.242222</td><td style = \"text-align: right;\">0.227372</td><td style = \"text-align: right;\">0.213432</td><td style = \"text-align: right;\">0.200348</td><td style = \"text-align: right;\">0.188065</td><td style = \"text-align: right;\">0.176535</td><td style = \"text-align: right;\">0.165712</td><td style = \"text-align: right;\">&ctdot;</td></tr><tr><td class = \"rowNumber\" style = \"font-weight: bold; text-align: right;\">2</td><td style = \"text-align: right;\">-1.70637e-8</td><td style = \"text-align: right;\">-4.69677e-8</td><td style = \"text-align: right;\">-3.77121e-8</td><td style = \"text-align: right;\">-3.0387e-8</td><td style = \"text-align: right;\">-2.41061e-8</td><td style = \"text-align: right;\">-1.81866e-8</td><td style = \"text-align: right;\">-1.23088e-8</td><td style = \"text-align: right;\">-6.40753e-9</td><td style = \"text-align: right;\">-5.63918e-10</td><td style = \"text-align: right;\">5.07787e-9</td><td style = \"text-align: right;\">1.03647e-8</td><td style = \"text-align: right;\">1.51643e-8</td><td style = \"text-align: right;\">1.93775e-8</td><td style = \"text-align: right;\">2.29401e-8</td><td style = \"text-align: right;\">2.58202e-8</td><td style = \"text-align: right;\">2.80115e-8</td><td style = \"text-align: right;\">2.95281e-8</td><td style = \"text-align: right;\">3.03994e-8</td><td style = \"text-align: right;\">3.06651e-8</td><td style = \"text-align: right;\">3.03728e-8</td><td style = \"text-align: right;\">2.95745e-8</td><td style = \"text-align: right;\">2.83254e-8</td><td style = \"text-align: right;\">2.66817e-8</td><td style = \"text-align: right;\">2.46992e-8</td><td style = \"text-align: right;\">2.24323e-8</td><td style = \"text-align: right;\">1.99326e-8</td><td style = \"text-align: right;\">1.72482e-8</td><td style = \"text-align: right;\">1.44237e-8</td><td style = \"text-align: right;\">1.15003e-8</td><td style = \"text-align: right;\">8.51605e-9</td><td style = \"text-align: right;\">5.50617e-9</td><td style = \"text-align: right;\">2.50368e-9</td><td style = \"text-align: right;\">-4.60586e-10</td><td style = \"text-align: right;\">-3.35858e-9</td><td style = \"text-align: right;\">-6.16777e-9</td><td style = \"text-align: right;\">-8.8153e-9</td><td style = \"text-align: right;\">-1.12232e-8</td><td style = \"text-align: right;\">-1.3383e-8</td><td style = \"text-align: right;\">-1.53108e-8</td><td style = \"text-align: right;\">-1.70257e-8</td><td style = \"text-align: right;\">-1.85468e-8</td><td style = \"text-align: right;\">-1.98927e-8</td><td style = \"text-align: right;\">-2.1081e-8</td><td style = \"text-align: right;\">-2.21281e-8</td><td style = \"text-align: right;\">-2.30488e-8</td><td style = \"text-align: right;\">-2.38567e-8</td><td style = \"text-align: right;\">-2.45641e-8</td><td style = \"text-align: right;\">-2.51818e-8</td><td style = \"text-align: right;\">-2.57196e-8</td><td style = \"text-align: right;\">-2.61861e-8</td><td style = \"text-align: right;\">-2.6589e-8</td><td style = \"text-align: right;\">-2.6935e-8</td><td style = \"text-align: right;\">-2.72301e-8</td><td style = \"text-align: right;\">-2.74794e-8</td><td style = \"text-align: right;\">-2.76876e-8</td><td style = \"text-align: right;\">-2.78586e-8</td><td style = \"text-align: right;\">-2.79962e-8</td><td style = \"text-align: right;\">-2.81033e-8</td><td style = \"text-align: right;\">-2.81828e-8</td><td style = \"text-align: right;\">-2.82371e-8</td><td style = \"text-align: right;\">-2.82684e-8</td><td style = \"text-align: right;\">-2.82785e-8</td><td style = \"text-align: right;\">-2.82693e-8</td><td style = \"text-align: right;\">-2.82422e-8</td><td style = \"text-align: right;\">-2.81987e-8</td><td style = \"text-align: right;\">-2.814e-8</td><td style = \"text-align: right;\">-2.80673e-8</td><td style = \"text-align: right;\">-2.79814e-8</td><td style = \"text-align: right;\">-2.78835e-8</td><td style = \"text-align: right;\">-2.77741e-8</td><td style = \"text-align: right;\">-2.76542e-8</td><td style = \"text-align: right;\">-2.75243e-8</td><td style = \"text-align: right;\">-2.73851e-8</td><td style = \"text-align: right;\">-2.72369e-8</td><td style = \"text-align: right;\">-2.70804e-8</td><td style = \"text-align: right;\">-2.69157e-8</td><td style = \"text-align: right;\">-2.67434e-8</td><td style = \"text-align: right;\">-2.65636e-8</td><td style = \"text-align: right;\">-2.63765e-8</td><td style = \"text-align: right;\">-2.61824e-8</td><td style = \"text-align: right;\">-2.59814e-8</td><td style = \"text-align: right;\">-2.57735e-8</td><td style = \"text-align: right;\">-2.55588e-8</td><td style = \"text-align: right;\">-2.53375e-8</td><td style = \"text-align: right;\">-2.51093e-8</td><td style = \"text-align: right;\">-2.48745e-8</td><td style = \"text-align: right;\">-2.46329e-8</td><td style = \"text-align: right;\">-2.43845e-8</td><td style = \"text-align: right;\">-2.41293e-8</td><td style = \"text-align: right;\">-2.38673e-8</td><td style = \"text-align: right;\">-2.35983e-8</td><td style = \"text-align: right;\">-2.33223e-8</td><td style = \"text-align: right;\">-2.30394e-8</td><td style = \"text-align: right;\">-2.27494e-8</td><td style = \"text-align: right;\">-2.24523e-8</td><td style = \"text-align: right;\">-2.21482e-8</td><td style = \"text-align: right;\">-2.18371e-8</td><td style = \"text-align: right;\">-2.15189e-8</td><td style = \"text-align: right;\">-2.11937e-8</td><td style = \"text-align: right;\">-2.08615e-8</td><td style = \"text-align: right;\">&ctdot;</td></tr></tbody></table></div>"
      ],
      "text/latex": [
       "\\begin{tabular}{r|cccccccc}\n",
       "\t& x1 & x2 & x3 & x4 & x5 & x6 & x7 & \\\\\n",
       "\t\\hline\n",
       "\t& Float64 & Float64 & Float64 & Float64 & Float64 & Float64 & Float64 & \\\\\n",
       "\t\\hline\n",
       "\t1 & 10.0 & 10.0 & 10.0 & 10.0 & 10.0 & 10.0 & 10.0 & $\\dots$ \\\\\n",
       "\t2 & -1.70637e-8 & -4.69677e-8 & -3.77121e-8 & -3.0387e-8 & -2.41061e-8 & -1.81866e-8 & -1.23088e-8 & $\\dots$ \\\\\n",
       "\\end{tabular}\n"
      ],
      "text/plain": [
       "\u001b[1m2×251 DataFrame\u001b[0m\n",
       "\u001b[1m Row \u001b[0m│\u001b[1m x1          \u001b[0m\u001b[1m x2          \u001b[0m\u001b[1m x3          \u001b[0m\u001b[1m x4         \u001b[0m\u001b[1m x5          \u001b[0m\u001b[1m x6     \u001b[0m ⋯\n",
       "     │\u001b[90m Float64     \u001b[0m\u001b[90m Float64     \u001b[0m\u001b[90m Float64     \u001b[0m\u001b[90m Float64    \u001b[0m\u001b[90m Float64     \u001b[0m\u001b[90m Float64\u001b[0m ⋯\n",
       "─────┼──────────────────────────────────────────────────────────────────────────\n",
       "   1 │ 10.0         10.0         10.0         10.0        10.0         10.0    ⋯\n",
       "   2 │ -1.70637e-8  -4.69677e-8  -3.77121e-8  -3.0387e-8  -2.41061e-8  -1.8186\n",
       "\u001b[36m                                                             246 columns omitted\u001b[0m"
      ]
     },
     "execution_count": 83,
     "metadata": {},
     "output_type": "execute_result"
    }
   ],
   "source": [
    "df_utraj = DataFrame(utraj, :auto)"
   ]
  },
  {
   "cell_type": "code",
   "execution_count": 84,
   "metadata": {},
   "outputs": [
    {
     "data": {
      "text/plain": [
       "\"utraj_straight.csv\""
      ]
     },
     "execution_count": 84,
     "metadata": {},
     "output_type": "execute_result"
    }
   ],
   "source": [
    "CSV.write(\"utraj_straight.csv\", df_utraj)"
   ]
  },
  {
   "cell_type": "code",
   "execution_count": null,
   "metadata": {},
   "outputs": [],
   "source": []
  }
 ],
 "metadata": {
  "kernelspec": {
   "display_name": "Julia 1.6.7",
   "language": "julia",
   "name": "julia-1.6"
  },
  "language_info": {
   "file_extension": ".jl",
   "mimetype": "application/julia",
   "name": "julia",
   "version": "1.6.7"
  }
 },
 "nbformat": 4,
 "nbformat_minor": 4
}
