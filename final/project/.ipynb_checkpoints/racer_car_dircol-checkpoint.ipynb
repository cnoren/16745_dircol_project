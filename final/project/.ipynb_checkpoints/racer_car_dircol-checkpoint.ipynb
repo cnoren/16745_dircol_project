{
 "cells": [
  {
   "cell_type": "code",
   "execution_count": null,
   "metadata": {
    "scrolled": true,
    "tags": []
   },
   "outputs": [
    {
     "name": "stderr",
     "output_type": "stream",
     "text": [
      "\u001b[32m\u001b[1m  Activating\u001b[22m\u001b[39m environment at `~/workspace/coursework_ws/s2023/16745/project/Project.toml`\n",
      "\u001b[32m\u001b[1m    Updating\u001b[22m\u001b[39m registry at `~/.julia/registries/General`\n",
      "\u001b[32m\u001b[1m   Resolving\u001b[22m\u001b[39m package versions...\n",
      "\u001b[32m\u001b[1m  No Changes\u001b[22m\u001b[39m to `~/workspace/coursework_ws/s2023/16745/project/Project.toml`\n",
      "\u001b[32m\u001b[1m  No Changes\u001b[22m\u001b[39m to `~/workspace/coursework_ws/s2023/16745/project/Manifest.toml`\n"
     ]
    }
   ],
   "source": [
    "import Pkg; Pkg.activate(@__DIR__); Pkg.add(\"ForwardDiff\"); Pkg.add(\"CSV\"); Pkg.add(\"Tables\"); Pkg.add(\"DataFrames\"); Pkg.instantiate()"
   ]
  },
  {
   "cell_type": "code",
   "execution_count": null,
   "metadata": {},
   "outputs": [],
   "source": [
    "using LinearAlgebra\n",
    "using ForwardDiff\n",
    "using RobotZoo\n",
    "using PyPlot\n",
    "const RZ = RobotZoo\n",
    "using RobotDynamics\n",
    "using Ipopt\n",
    "using MathOptInterface\n",
    "using CSV\n",
    "using Tables\n",
    "using DataFrames\n",
    "const MOI = MathOptInterface\n",
    "\n",
    "using PyPlot;"
   ]
  },
  {
   "cell_type": "code",
   "execution_count": null,
   "metadata": {},
   "outputs": [],
   "source": [
    "using MathOptInterface\n",
    "const MOI = MathOptInterface\n"
   ]
  },
  {
   "cell_type": "markdown",
   "metadata": {},
   "source": [
    "Kinematic model of a car with front-wheel steering. Assumes no skid and models wheels on the same\n",
    "axel as a single wheel. The state is defined as `[x,y,θ,δ]` where `x` and `y` are the position,\n",
    "`θ` is the orientation (yaw angle), and `δ` is the steering angle. The controls are `[v,ϕ]` where \n",
    "`v` is the forward velocity and `ϕ` is the steering angle rate."
   ]
  },
  {
   "cell_type": "code",
   "execution_count": 86,
   "metadata": {},
   "outputs": [
    {
     "data": {
      "text/plain": [
       "0.02"
      ]
     },
     "execution_count": 86,
     "metadata": {},
     "output_type": "execute_result"
    }
   ],
   "source": [
    "#Pendulum Dynamics\n",
    "a = RobotZoo.BicycleModel(L=2.97)\n",
    "h = 0.02 #10 Hz"
   ]
  },
  {
   "cell_type": "code",
   "execution_count": 112,
   "metadata": {},
   "outputs": [
    {
     "data": {
      "text/plain": [
       "1008"
      ]
     },
     "execution_count": 112,
     "metadata": {},
     "output_type": "execute_result"
    }
   ],
   "source": [
    "Nx = 4     # number of state\n",
    "Nu = 2     # number of controls\n",
    "Tfinal = 5.0 # final time\n",
    "Nt = Int(Tfinal/h)+1   # number of time steps\n",
    "thist = Array(range(0,h*(Nt-1), step=h));\n",
    "n_nlp = (Nx+Nu)*Nt # number of decision variables\n",
    "m_nlp = Nx*(Nt+1)"
   ]
  },
  {
   "cell_type": "code",
   "execution_count": 113,
   "metadata": {},
   "outputs": [
    {
     "data": {
      "text/plain": [
       "dircol_dynamics (generic function with 1 method)"
      ]
     },
     "execution_count": 113,
     "metadata": {},
     "output_type": "execute_result"
    }
   ],
   "source": [
    "function dircol_dynamics(x1,u1,x2,u2)\n",
    "    #Hermite-Simpson integration with first-order hold on u\n",
    "    f1 = RZ.dynamics(a, x1, u1)\n",
    "    #println(f1)\n",
    "    f2 = RZ.dynamics(a, x2, u2)\n",
    "    #println(f2)\n",
    "    xm = 0.5*(x1 + x2) + (h/8.0)*(f1 - f2)\n",
    "    um = 0.5*(u1 + u2)\n",
    "    ẋm = (-3/(2.0*h))*(x1 - x2) - 0.25*(f1 + f2)\n",
    "    fm = RZ.dynamics(a, xm, um)\n",
    "    return fm - ẋm\n",
    "end"
   ]
  },
  {
   "cell_type": "code",
   "execution_count": 114,
   "metadata": {},
   "outputs": [],
   "source": [
    "# Cost weights\n",
    "Q = Diagonal(1.0*ones(4));\n",
    "R = Diagonal(0.1*ones(2));"
   ]
  },
  {
   "cell_type": "code",
   "execution_count": 115,
   "metadata": {},
   "outputs": [
    {
     "data": {
      "text/plain": [
       "stage_cost (generic function with 1 method)"
      ]
     },
     "execution_count": 115,
     "metadata": {},
     "output_type": "execute_result"
    }
   ],
   "source": [
    "function stage_cost(x,u)\n",
    "    # println(\"X: \")\n",
    "    # println(x)    \n",
    "    # println(\"U: \")\n",
    "    # println(u)\n",
    "    # println(\"Q: \")\n",
    "    # println(Q)    \n",
    "    # println(\"R: \")\n",
    "    # println(R)\n",
    "    # println(\"COMPONENTS\")\n",
    "    # println(0.5*((x-xgoal)'*Q*(x-xgoal)))\n",
    "    # println(\"COMPONENTS 2\")\n",
    "    # println(0.5*(u'*R*u))\n",
    "    # println(\"FINISH\")\n",
    "    \n",
    "    return 0.5*((x-xgoal)'*Q*(x-xgoal)) + 0.5*u'*R*u\n",
    "end"
   ]
  },
  {
   "cell_type": "code",
   "execution_count": 116,
   "metadata": {},
   "outputs": [
    {
     "data": {
      "text/plain": [
       "cost (generic function with 1 method)"
      ]
     },
     "execution_count": 116,
     "metadata": {},
     "output_type": "execute_result"
    }
   ],
   "source": [
    "function cost(ztraj)\n",
    "    z = reshape(ztraj,Nx+Nu,Nt)\n",
    "    J = 0.0\n",
    "    for k = 1:Nt\n",
    "        J += stage_cost(z[1:Nx,k],z[(Nx+1):(Nx+Nu),k])\n",
    "    end\n",
    "    return J\n",
    "end"
   ]
  },
  {
   "cell_type": "code",
   "execution_count": 117,
   "metadata": {},
   "outputs": [
    {
     "data": {
      "text/plain": [
       "dynamics_constraint! (generic function with 1 method)"
      ]
     },
     "execution_count": 117,
     "metadata": {},
     "output_type": "execute_result"
    }
   ],
   "source": [
    "function dynamics_constraint!(c,ztraj)\n",
    "    d = reshape(c,Nx,Nt-1)\n",
    "    z = reshape(ztraj,Nx+Nu,Nt)\n",
    "    for k = 1:(Nt-1)\n",
    "        x1 = z[1:Nx,k]\n",
    "        u1 = z[(Nx+1):(Nx+Nu),k]\n",
    "        x2 = z[1:Nx,k+1]\n",
    "        u2 = z[(Nx+1):(Nx+Nu),k+1]\n",
    "        d[:,k] = dircol_dynamics(x1,u1,x2,u2)\n",
    "    end\n",
    "    return nothing\n",
    "end"
   ]
  },
  {
   "cell_type": "code",
   "execution_count": 118,
   "metadata": {},
   "outputs": [
    {
     "data": {
      "text/plain": [
       "con! (generic function with 1 method)"
      ]
     },
     "execution_count": 118,
     "metadata": {},
     "output_type": "execute_result"
    }
   ],
   "source": [
    "function con!(c,ztraj)\n",
    "    z = reshape(ztraj,Nx+Nu,Nt)\n",
    "    c[1:Nx] .= z[1:Nx,1] - x0\n",
    "    @views dynamics_constraint!(c[(Nx+1):(end-Nx)],ztraj)\n",
    "    c[(end-Nx+1):end] .= z[1:Nx,end] - xgoal\n",
    "end"
   ]
  },
  {
   "cell_type": "code",
   "execution_count": 119,
   "metadata": {},
   "outputs": [
    {
     "data": {
      "text/plain": [
       "4-element Vector{Float64}:\n",
       "  5.0\n",
       " -2.5\n",
       "  0.0\n",
       "  0.0"
      ]
     },
     "execution_count": 119,
     "metadata": {},
     "output_type": "execute_result"
    }
   ],
   "source": [
    "#Initial and goal states\n",
    "x0    = [0; 0; 0; 0;]\n",
    "xgoal = [5; -2.5; 0; 0;]"
   ]
  },
  {
   "cell_type": "code",
   "execution_count": 120,
   "metadata": {},
   "outputs": [],
   "source": [
    "#Guess\n",
    "xguess = kron(ones(Nt)', x0)\n",
    "#xguess[1,:] .= xtraj[1,:] + 0.1*randn(Nt)\n",
    "uguess = kron(ones(Nt)', [0; 0])\n",
    "z0 = reshape([xguess; uguess],(Nx+Nu)*Nt,1);"
   ]
  },
  {
   "cell_type": "code",
   "execution_count": 121,
   "metadata": {},
   "outputs": [
    {
     "data": {
      "text/plain": [
       "solve (generic function with 1 method)"
      ]
     },
     "execution_count": 121,
     "metadata": {},
     "output_type": "execute_result"
    }
   ],
   "source": [
    "struct ProblemMOI <: MOI.AbstractNLPEvaluator\n",
    "    n_nlp::Int\n",
    "    m_nlp::Int\n",
    "    idx_ineq\n",
    "    obj_grad::Bool\n",
    "    con_jac::Bool\n",
    "    sparsity_jac\n",
    "    sparsity_hess\n",
    "    primal_bounds\n",
    "    constraint_bounds\n",
    "    hessian_lagrangian::Bool\n",
    "end\n",
    "\n",
    "function ProblemMOI(n_nlp,m_nlp;\n",
    "        idx_ineq=(1:0),\n",
    "        obj_grad=true,\n",
    "        con_jac=true,\n",
    "        sparsity_jac=sparsity_jacobian(n_nlp,m_nlp),\n",
    "        sparsity_hess=sparsity_hessian(n_nlp,m_nlp),\n",
    "        primal_bounds=primal_bounds(n_nlp),\n",
    "        constraint_bounds=constraint_bounds(m_nlp,idx_ineq=idx_ineq),\n",
    "        hessian_lagrangian=false)\n",
    "\n",
    "    ProblemMOI(n_nlp,m_nlp,\n",
    "        idx_ineq,\n",
    "        obj_grad,\n",
    "        con_jac,\n",
    "        sparsity_jac,\n",
    "        sparsity_hess,\n",
    "        primal_bounds,\n",
    "        constraint_bounds,\n",
    "        hessian_lagrangian)\n",
    "end\n",
    "\n",
    "function primal_bounds(n)\n",
    "    x_l = -Inf*ones(n)\n",
    "    x_u = 10*ones(n)\n",
    "    return x_l, x_u\n",
    "end\n",
    "\n",
    "function constraint_bounds(m; idx_ineq=(1:0))\n",
    "    c_l = zeros(m)\n",
    "    c_l[idx_ineq] .= -Inf\n",
    "\n",
    "    c_u = zeros(m)\n",
    "    return c_l, c_u\n",
    "end\n",
    "\n",
    "function row_col!(row,col,r,c)\n",
    "    for cc in c\n",
    "        for rr in r\n",
    "            push!(row,convert(Int,rr))\n",
    "            push!(col,convert(Int,cc))\n",
    "        end\n",
    "    end\n",
    "    return row, col\n",
    "end\n",
    "\n",
    "function sparsity_jacobian(n,m)\n",
    "\n",
    "    row = []\n",
    "    col = []\n",
    "\n",
    "    r = 1:m\n",
    "    c = 1:n\n",
    "\n",
    "    row_col!(row,col,r,c)\n",
    "\n",
    "    return collect(zip(row,col))\n",
    "end\n",
    "\n",
    "function sparsity_hessian(n,m)\n",
    "\n",
    "    row = []\n",
    "    col = []\n",
    "\n",
    "    r = 1:m\n",
    "    c = 1:n\n",
    "\n",
    "    row_col!(row,col,r,c)\n",
    "\n",
    "    return collect(zip(row,col))\n",
    "end\n",
    "\n",
    "function MOI.eval_objective(prob::MOI.AbstractNLPEvaluator, x)\n",
    "    cost(x)\n",
    "end\n",
    "\n",
    "function MOI.eval_objective_gradient(prob::MOI.AbstractNLPEvaluator, grad_f, x)\n",
    "    ForwardDiff.gradient!(grad_f,cost,x)\n",
    "    return nothing\n",
    "end\n",
    "\n",
    "function MOI.eval_constraint(prob::MOI.AbstractNLPEvaluator,g,x)\n",
    "    con!(g,x)\n",
    "    return nothing\n",
    "end\n",
    "\n",
    "function MOI.eval_constraint_jacobian(prob::MOI.AbstractNLPEvaluator, jac, x)\n",
    "    ForwardDiff.jacobian!(reshape(jac,prob.m_nlp,prob.n_nlp), con!, zeros(prob.m_nlp), x)\n",
    "    return nothing\n",
    "end\n",
    "\n",
    "function MOI.features_available(prob::MOI.AbstractNLPEvaluator)\n",
    "    return [:Grad, :Jac]\n",
    "end\n",
    "\n",
    "MOI.initialize(prob::MOI.AbstractNLPEvaluator, features) = nothing\n",
    "MOI.jacobian_structure(prob::MOI.AbstractNLPEvaluator) = prob.sparsity_jac\n",
    "\n",
    "function solve(x0,prob::MOI.AbstractNLPEvaluator;\n",
    "        tol=1.0e-6,c_tol=1.0e-6,max_iter=10000)\n",
    "    x_l, x_u = prob.primal_bounds\n",
    "    c_l, c_u = prob.constraint_bounds\n",
    "\n",
    "    nlp_bounds = MOI.NLPBoundsPair.(c_l,c_u)\n",
    "    block_data = MOI.NLPBlockData(nlp_bounds,prob,true)\n",
    "\n",
    "    solver = Ipopt.Optimizer()\n",
    "    solver.options[\"max_iter\"] = max_iter\n",
    "    solver.options[\"tol\"] = tol\n",
    "    solver.options[\"constr_viol_tol\"] = c_tol\n",
    "\n",
    "    x = MOI.add_variables(solver,prob.n_nlp)\n",
    "\n",
    "    for i = 1:prob.n_nlp\n",
    "        MOI.add_constraint(solver, x[i], MOI.LessThan(x_u[i]))\n",
    "        MOI.add_constraint(solver, x[i], MOI.GreaterThan(x_l[i]))\n",
    "        MOI.set(solver, MOI.VariablePrimalStart(), x[i], x0[i])\n",
    "    end\n",
    "\n",
    "    # Solve the problem\n",
    "    MOI.set(solver, MOI.NLPBlock(), block_data)\n",
    "    MOI.set(solver, MOI.ObjectiveSense(), MOI.MIN_SENSE)\n",
    "    MOI.optimize!(solver)\n",
    "\n",
    "    # Get the solution\n",
    "    res = MOI.get(solver, MOI.VariablePrimal(), x)\n",
    "\n",
    "    return res\n",
    "end"
   ]
  },
  {
   "cell_type": "code",
   "execution_count": null,
   "metadata": {
    "scrolled": true,
    "tags": []
   },
   "outputs": [],
   "source": [
    "prob = ProblemMOI(n_nlp,m_nlp)\n",
    "z_sol = solve(z0,prob) # solve\n",
    "ztraj = reshape(z_sol,Nx+Nu,Nt)\n",
    "xtraj = ztraj[1:Nx,:]\n",
    "utraj = ztraj[(Nx+1):(Nx+Nu),:];"
   ]
  },
  {
   "cell_type": "code",
   "execution_count": null,
   "metadata": {},
   "outputs": [],
   "source": [
    "#print(thist)\n",
    "#print(xtraj)\n",
    "plot(thist,xtraj[1,:])\n",
    "plot(thist,xtraj[2,:])\n",
    "title(\"Positional State History vs. Time\")\n",
    "#plot(thist,xguess[1,:])"
   ]
  },
  {
   "cell_type": "code",
   "execution_count": null,
   "metadata": {
    "scrolled": false
   },
   "outputs": [],
   "source": [
    "plot(xtraj[1,:],xtraj[2,:])\n",
    "title(\"Position\")"
   ]
  },
  {
   "cell_type": "code",
   "execution_count": null,
   "metadata": {
    "scrolled": false
   },
   "outputs": [],
   "source": [
    "plot(thist,xtraj[3,:])\n",
    "plot(thist,xtraj[4,:])"
   ]
  },
  {
   "cell_type": "code",
   "execution_count": null,
   "metadata": {
    "scrolled": false
   },
   "outputs": [],
   "source": [
    "plot(thist,utraj[1,:])"
   ]
  },
  {
   "cell_type": "code",
   "execution_count": null,
   "metadata": {},
   "outputs": [],
   "source": [
    "using TrajOptPlots\n",
    "using MeshCat\n",
    "using StaticArrays\n",
    "\n",
    "vis = Visualizer()\n",
    "render(vis)"
   ]
  },
  {
   "cell_type": "code",
   "execution_count": null,
   "metadata": {},
   "outputs": [],
   "source": [
    "TrajOptPlots.set_mesh!(vis, a)"
   ]
  },
  {
   "cell_type": "code",
   "execution_count": null,
   "metadata": {},
   "outputs": [],
   "source": [
    "X1 = [SVector{4}(x) for x in eachcol(xtraj)];\n",
    "visualize!(vis, a, thist[end], X1)"
   ]
  },
  {
   "cell_type": "code",
   "execution_count": null,
   "metadata": {},
   "outputs": [],
   "source": [
    "using Tables; using DataFrames"
   ]
  },
  {
   "cell_type": "code",
   "execution_count": null,
   "metadata": {},
   "outputs": [],
   "source": [
    "df_xtraj = DataFrame(xtraj, :auto)"
   ]
  },
  {
   "cell_type": "code",
   "execution_count": null,
   "metadata": {},
   "outputs": [],
   "source": [
    "CSV.write(\"xtraj_straight.csv\", df_xtraj)"
   ]
  },
  {
   "cell_type": "code",
   "execution_count": null,
   "metadata": {},
   "outputs": [],
   "source": [
    "print(size(xtraj))"
   ]
  },
  {
   "cell_type": "code",
   "execution_count": null,
   "metadata": {},
   "outputs": [],
   "source": [
    "df_utraj = DataFrame(utraj, :auto)"
   ]
  },
  {
   "cell_type": "code",
   "execution_count": null,
   "metadata": {},
   "outputs": [],
   "source": [
    "CSV.write(\"utraj_straight.csv\", df_utraj)"
   ]
  },
  {
   "cell_type": "code",
   "execution_count": null,
   "metadata": {},
   "outputs": [],
   "source": []
  }
 ],
 "metadata": {
  "kernelspec": {
   "display_name": "Julia 1.6.7",
   "language": "julia",
   "name": "julia-1.6"
  },
  "language_info": {
   "file_extension": ".jl",
   "mimetype": "application/julia",
   "name": "julia",
   "version": "1.6.7"
  }
 },
 "nbformat": 4,
 "nbformat_minor": 4
}
